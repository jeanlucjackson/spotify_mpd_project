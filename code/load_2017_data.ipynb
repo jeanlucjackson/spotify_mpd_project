{
 "cells": [
  {
   "cell_type": "markdown",
   "id": "aa7e5eb7-98a8-4bb4-81e9-9dffef20cd88",
   "metadata": {},
   "source": [
    "# Load 2017 DataFrames and Dictionaries\n",
    "\n",
    "Loads the following csv's into **DataFrames**:\n",
    "- `playlist_2017.csv` $\\rightarrow$ `playlist_df`\n",
    "- `tracks_2017.csv` $\\rightarrow$ `track_df`\n",
    "- `albums_2017.csv` $\\rightarrow$ `album_df`\n",
    "- `artist_2017.csv` $\\rightarrow$ `artist_df`\n",
    "\n",
    "Then, the following **dictionaries** are created:\n",
    "- `playlist_dict`\n",
    "- `track_dict`\n",
    "- `album_dict`\n",
    "- `artist_dict`\n",
    "\n",
    "As well as the following **functions**:\n",
    "- `get_playlist_feature(PID, feature)`\n",
    "- `get_track_feature(URI, feature)`\n",
    "- `get_album_feature(URI, feature)`\n",
    "- `get_artist_feature(URI, feature)`"
   ]
  },
  {
   "cell_type": "code",
   "execution_count": 1,
   "id": "1de8cea5-c1a0-488c-90b7-f0f0dff264cb",
   "metadata": {},
   "outputs": [],
   "source": [
    "# imports\n",
    "import numpy as np\n",
    "import pandas as pd\n",
    "import os\n",
    "import csv"
   ]
  },
  {
   "cell_type": "markdown",
   "id": "f200733d-61f4-455c-9878-68dbf1295aab",
   "metadata": {},
   "source": [
    "### Update data path as needed"
   ]
  },
  {
   "cell_type": "code",
   "execution_count": 2,
   "id": "caa15a86-79c0-46b8-83b8-356b45634a17",
   "metadata": {},
   "outputs": [],
   "source": [
    "# path to the DIRECTORY where CSV files are saved relative to this notebook\n",
    "path = '../data'\n",
    "output_filepath_root = os.path.relpath(path)"
   ]
  },
  {
   "cell_type": "markdown",
   "id": "c896e8e3-e21e-40e7-ab21-83aa8556fe8f",
   "metadata": {},
   "source": [
    "## Load 2017 CSVs to DFs"
   ]
  },
  {
   "cell_type": "markdown",
   "id": "08302b60-9df7-4254-b2e0-2da4d5025e3e",
   "metadata": {},
   "source": [
    "### Playlists"
   ]
  },
  {
   "cell_type": "code",
   "execution_count": 3,
   "id": "8ecd871f-b075-4902-a8a8-e0e96ea38695",
   "metadata": {},
   "outputs": [
    {
     "data": {
      "text/html": [
       "<div>\n",
       "<style scoped>\n",
       "    .dataframe tbody tr th:only-of-type {\n",
       "        vertical-align: middle;\n",
       "    }\n",
       "\n",
       "    .dataframe tbody tr th {\n",
       "        vertical-align: top;\n",
       "    }\n",
       "\n",
       "    .dataframe thead th {\n",
       "        text-align: right;\n",
       "    }\n",
       "</style>\n",
       "<table border=\"1\" class=\"dataframe\">\n",
       "  <thead>\n",
       "    <tr style=\"text-align: right;\">\n",
       "      <th></th>\n",
       "      <th>name</th>\n",
       "      <th>description</th>\n",
       "      <th>modified_at</th>\n",
       "      <th>num_artists</th>\n",
       "      <th>num_albums</th>\n",
       "      <th>num_tracks</th>\n",
       "      <th>num_followers</th>\n",
       "      <th>num_edits</th>\n",
       "      <th>duration_ms</th>\n",
       "      <th>collaborative</th>\n",
       "      <th>...</th>\n",
       "      <th>track_14_album_uri</th>\n",
       "      <th>track_14_artist_uri</th>\n",
       "      <th>track_15_uri</th>\n",
       "      <th>track_15_album_uri</th>\n",
       "      <th>track_15_artist_uri</th>\n",
       "      <th>modified_at_date</th>\n",
       "      <th>modified_at_year</th>\n",
       "      <th>modified_at_month</th>\n",
       "      <th>modified_at_day</th>\n",
       "      <th>modified_at_dow</th>\n",
       "    </tr>\n",
       "    <tr>\n",
       "      <th>pid</th>\n",
       "      <th></th>\n",
       "      <th></th>\n",
       "      <th></th>\n",
       "      <th></th>\n",
       "      <th></th>\n",
       "      <th></th>\n",
       "      <th></th>\n",
       "      <th></th>\n",
       "      <th></th>\n",
       "      <th></th>\n",
       "      <th></th>\n",
       "      <th></th>\n",
       "      <th></th>\n",
       "      <th></th>\n",
       "      <th></th>\n",
       "      <th></th>\n",
       "      <th></th>\n",
       "      <th></th>\n",
       "      <th></th>\n",
       "      <th></th>\n",
       "      <th></th>\n",
       "    </tr>\n",
       "  </thead>\n",
       "  <tbody>\n",
       "    <tr>\n",
       "      <th>434000</th>\n",
       "      <td>Sad</td>\n",
       "      <td>NaN</td>\n",
       "      <td>1488240000</td>\n",
       "      <td>24</td>\n",
       "      <td>26</td>\n",
       "      <td>27</td>\n",
       "      <td>1</td>\n",
       "      <td>6</td>\n",
       "      <td>6081757</td>\n",
       "      <td>False</td>\n",
       "      <td>...</td>\n",
       "      <td>spotify:album:4M9Ti6t5h54aDMX4SizDfT</td>\n",
       "      <td>spotify:artist:4vVfuZfXWu18vk5Z4C7wbm</td>\n",
       "      <td>spotify:track:3yrVRdwCbEeKODZgG2mVZX</td>\n",
       "      <td>spotify:album:3SCJmoy3Z45p84IfuaM9YQ</td>\n",
       "      <td>spotify:artist:2EO56JK4txid1Pss9GVbOL</td>\n",
       "      <td>2017-02-28</td>\n",
       "      <td>2017</td>\n",
       "      <td>2</td>\n",
       "      <td>28</td>\n",
       "      <td>1</td>\n",
       "    </tr>\n",
       "    <tr>\n",
       "      <th>434001</th>\n",
       "      <td>pb&amp;j</td>\n",
       "      <td>faves tbh</td>\n",
       "      <td>1487808000</td>\n",
       "      <td>35</td>\n",
       "      <td>38</td>\n",
       "      <td>39</td>\n",
       "      <td>1</td>\n",
       "      <td>9</td>\n",
       "      <td>8959761</td>\n",
       "      <td>False</td>\n",
       "      <td>...</td>\n",
       "      <td>spotify:album:6deiaArbeoqp1xPEGdEKp1</td>\n",
       "      <td>spotify:artist:0L8ExT028jH3ddEcZwqJJ5</td>\n",
       "      <td>spotify:track:5E30LdtzQTGqRvNd7l6kG5</td>\n",
       "      <td>spotify:album:18iFxjZugvKhuNNMbLjZJF</td>\n",
       "      <td>spotify:artist:77SW9BnxLY8rJ0RciFqkHh</td>\n",
       "      <td>2017-02-23</td>\n",
       "      <td>2017</td>\n",
       "      <td>2</td>\n",
       "      <td>23</td>\n",
       "      <td>3</td>\n",
       "    </tr>\n",
       "    <tr>\n",
       "      <th>434004</th>\n",
       "      <td>Whatever</td>\n",
       "      <td>NaN</td>\n",
       "      <td>1506816000</td>\n",
       "      <td>36</td>\n",
       "      <td>57</td>\n",
       "      <td>79</td>\n",
       "      <td>1</td>\n",
       "      <td>46</td>\n",
       "      <td>18874072</td>\n",
       "      <td>False</td>\n",
       "      <td>...</td>\n",
       "      <td>spotify:album:2Tyx5dLhHYkx6zeAdVaTzN</td>\n",
       "      <td>spotify:artist:4LLpKhyESsyAXpc4laK94U</td>\n",
       "      <td>spotify:track:0htTZnlk6okQ1HIq4EvFQ6</td>\n",
       "      <td>spotify:album:6liIoWzpvrff945pUI7fHt</td>\n",
       "      <td>spotify:artist:02kJSzxNuaWGqwubyUba0Z</td>\n",
       "      <td>2017-10-01</td>\n",
       "      <td>2017</td>\n",
       "      <td>10</td>\n",
       "      <td>1</td>\n",
       "      <td>6</td>\n",
       "    </tr>\n",
       "    <tr>\n",
       "      <th>434005</th>\n",
       "      <td>roadtrip</td>\n",
       "      <td>NaN</td>\n",
       "      <td>1492905600</td>\n",
       "      <td>30</td>\n",
       "      <td>35</td>\n",
       "      <td>70</td>\n",
       "      <td>1</td>\n",
       "      <td>18</td>\n",
       "      <td>15696608</td>\n",
       "      <td>False</td>\n",
       "      <td>...</td>\n",
       "      <td>spotify:album:6DwdzG4UGYLxJ2p7bd483v</td>\n",
       "      <td>spotify:artist:2Q0MyH5YMI5HPQjFjlq5g3</td>\n",
       "      <td>spotify:track:4XvKjZWIqsHvvza89lMTAH</td>\n",
       "      <td>spotify:album:6izXZb0VGaUHqm5GaXq4YC</td>\n",
       "      <td>spotify:artist:5IXalAOiV9I8LgLMGZydmt</td>\n",
       "      <td>2017-04-23</td>\n",
       "      <td>2017</td>\n",
       "      <td>4</td>\n",
       "      <td>23</td>\n",
       "      <td>6</td>\n",
       "    </tr>\n",
       "    <tr>\n",
       "      <th>434007</th>\n",
       "      <td>Cumbias</td>\n",
       "      <td>NaN</td>\n",
       "      <td>1507507200</td>\n",
       "      <td>23</td>\n",
       "      <td>42</td>\n",
       "      <td>50</td>\n",
       "      <td>1</td>\n",
       "      <td>21</td>\n",
       "      <td>10255699</td>\n",
       "      <td>False</td>\n",
       "      <td>...</td>\n",
       "      <td>spotify:album:392uNMyh5D6fqkBS385XJd</td>\n",
       "      <td>spotify:artist:3zzeZVLuOeetfimOd4k8rE</td>\n",
       "      <td>spotify:track:1yOLrH7nF0R7MWDuuva6va</td>\n",
       "      <td>spotify:album:2rXbAorimO8C06RkqS2oq5</td>\n",
       "      <td>spotify:artist:0OhiQFSqbnnmB52NWEpsO5</td>\n",
       "      <td>2017-10-09</td>\n",
       "      <td>2017</td>\n",
       "      <td>10</td>\n",
       "      <td>9</td>\n",
       "      <td>0</td>\n",
       "    </tr>\n",
       "  </tbody>\n",
       "</table>\n",
       "<p>5 rows × 60 columns</p>\n",
       "</div>"
      ],
      "text/plain": [
       "            name description  modified_at  num_artists  num_albums  \\\n",
       "pid                                                                  \n",
       "434000       Sad         NaN   1488240000           24          26   \n",
       "434001      pb&j   faves tbh   1487808000           35          38   \n",
       "434004  Whatever         NaN   1506816000           36          57   \n",
       "434005  roadtrip         NaN   1492905600           30          35   \n",
       "434007   Cumbias         NaN   1507507200           23          42   \n",
       "\n",
       "        num_tracks  num_followers  num_edits  duration_ms  collaborative  ...  \\\n",
       "pid                                                                       ...   \n",
       "434000          27              1          6      6081757          False  ...   \n",
       "434001          39              1          9      8959761          False  ...   \n",
       "434004          79              1         46     18874072          False  ...   \n",
       "434005          70              1         18     15696608          False  ...   \n",
       "434007          50              1         21     10255699          False  ...   \n",
       "\n",
       "                          track_14_album_uri  \\\n",
       "pid                                            \n",
       "434000  spotify:album:4M9Ti6t5h54aDMX4SizDfT   \n",
       "434001  spotify:album:6deiaArbeoqp1xPEGdEKp1   \n",
       "434004  spotify:album:2Tyx5dLhHYkx6zeAdVaTzN   \n",
       "434005  spotify:album:6DwdzG4UGYLxJ2p7bd483v   \n",
       "434007  spotify:album:392uNMyh5D6fqkBS385XJd   \n",
       "\n",
       "                          track_14_artist_uri  \\\n",
       "pid                                             \n",
       "434000  spotify:artist:4vVfuZfXWu18vk5Z4C7wbm   \n",
       "434001  spotify:artist:0L8ExT028jH3ddEcZwqJJ5   \n",
       "434004  spotify:artist:4LLpKhyESsyAXpc4laK94U   \n",
       "434005  spotify:artist:2Q0MyH5YMI5HPQjFjlq5g3   \n",
       "434007  spotify:artist:3zzeZVLuOeetfimOd4k8rE   \n",
       "\n",
       "                                track_15_uri  \\\n",
       "pid                                            \n",
       "434000  spotify:track:3yrVRdwCbEeKODZgG2mVZX   \n",
       "434001  spotify:track:5E30LdtzQTGqRvNd7l6kG5   \n",
       "434004  spotify:track:0htTZnlk6okQ1HIq4EvFQ6   \n",
       "434005  spotify:track:4XvKjZWIqsHvvza89lMTAH   \n",
       "434007  spotify:track:1yOLrH7nF0R7MWDuuva6va   \n",
       "\n",
       "                          track_15_album_uri  \\\n",
       "pid                                            \n",
       "434000  spotify:album:3SCJmoy3Z45p84IfuaM9YQ   \n",
       "434001  spotify:album:18iFxjZugvKhuNNMbLjZJF   \n",
       "434004  spotify:album:6liIoWzpvrff945pUI7fHt   \n",
       "434005  spotify:album:6izXZb0VGaUHqm5GaXq4YC   \n",
       "434007  spotify:album:2rXbAorimO8C06RkqS2oq5   \n",
       "\n",
       "                          track_15_artist_uri modified_at_date  \\\n",
       "pid                                                              \n",
       "434000  spotify:artist:2EO56JK4txid1Pss9GVbOL       2017-02-28   \n",
       "434001  spotify:artist:77SW9BnxLY8rJ0RciFqkHh       2017-02-23   \n",
       "434004  spotify:artist:02kJSzxNuaWGqwubyUba0Z       2017-10-01   \n",
       "434005  spotify:artist:5IXalAOiV9I8LgLMGZydmt       2017-04-23   \n",
       "434007  spotify:artist:0OhiQFSqbnnmB52NWEpsO5       2017-10-09   \n",
       "\n",
       "       modified_at_year modified_at_month modified_at_day modified_at_dow  \n",
       "pid                                                                        \n",
       "434000             2017                 2              28               1  \n",
       "434001             2017                 2              23               3  \n",
       "434004             2017                10               1               6  \n",
       "434005             2017                 4              23               6  \n",
       "434007             2017                10               9               0  \n",
       "\n",
       "[5 rows x 60 columns]"
      ]
     },
     "execution_count": 3,
     "metadata": {},
     "output_type": "execute_result"
    }
   ],
   "source": [
    "playlist_df = pd.read_csv(os.path.join(output_filepath_root, 'playlists_2017.csv'), index_col='pid')\n",
    "playlist_df.head(5)"
   ]
  },
  {
   "cell_type": "markdown",
   "id": "9f75919d-133f-4d8c-a20e-a79fb077aaf8",
   "metadata": {},
   "source": [
    "### Tracks"
   ]
  },
  {
   "cell_type": "code",
   "execution_count": 4,
   "id": "9da3b3b6-c682-4c9d-a3c0-36b69ef2b13f",
   "metadata": {},
   "outputs": [
    {
     "data": {
      "text/html": [
       "<div>\n",
       "<style scoped>\n",
       "    .dataframe tbody tr th:only-of-type {\n",
       "        vertical-align: middle;\n",
       "    }\n",
       "\n",
       "    .dataframe tbody tr th {\n",
       "        vertical-align: top;\n",
       "    }\n",
       "\n",
       "    .dataframe thead th {\n",
       "        text-align: right;\n",
       "    }\n",
       "</style>\n",
       "<table border=\"1\" class=\"dataframe\">\n",
       "  <thead>\n",
       "    <tr style=\"text-align: right;\">\n",
       "      <th></th>\n",
       "      <th>track_name</th>\n",
       "      <th>album_name</th>\n",
       "      <th>album_uri</th>\n",
       "      <th>artist_name</th>\n",
       "      <th>artist_uri</th>\n",
       "      <th>duration_ms</th>\n",
       "    </tr>\n",
       "    <tr>\n",
       "      <th>track_uri</th>\n",
       "      <th></th>\n",
       "      <th></th>\n",
       "      <th></th>\n",
       "      <th></th>\n",
       "      <th></th>\n",
       "      <th></th>\n",
       "    </tr>\n",
       "  </thead>\n",
       "  <tbody>\n",
       "    <tr>\n",
       "      <th>spotify:track:6SbAbLqAWf2tnTdUy6Gmm5</th>\n",
       "      <td>FUCKING BEST SONG EVERRR</td>\n",
       "      <td>FUCKING BEST SONG EVERRR</td>\n",
       "      <td>spotify:album:1hmvZb81DAeTx67G1FaTjZ</td>\n",
       "      <td>Wallpaper.</td>\n",
       "      <td>spotify:artist:6NMcnx3vKGSAeqSMbySlpw</td>\n",
       "      <td>217800</td>\n",
       "    </tr>\n",
       "    <tr>\n",
       "      <th>spotify:track:1MvpPH6BTP3IrLnTjEA2gw</th>\n",
       "      <td>#STUPiDFACEDD</td>\n",
       "      <td>#STUPiDFACEDD</td>\n",
       "      <td>spotify:album:1c7wJm9mghFyIKnQJOobW8</td>\n",
       "      <td>Wallpaper.</td>\n",
       "      <td>spotify:artist:6NMcnx3vKGSAeqSMbySlpw</td>\n",
       "      <td>184026</td>\n",
       "    </tr>\n",
       "    <tr>\n",
       "      <th>spotify:track:5rgy6ghBq1eRApCkeUdJXf</th>\n",
       "      <td>We Are Young (feat. Janelle Monáe) - feat. Jan...</td>\n",
       "      <td>Some Nights</td>\n",
       "      <td>spotify:album:7m7F7SQ3BXvIpvOgjW51Gp</td>\n",
       "      <td>fun.</td>\n",
       "      <td>spotify:artist:5nCi3BB41mBaMH9gfr6Su0</td>\n",
       "      <td>250626</td>\n",
       "    </tr>\n",
       "    <tr>\n",
       "      <th>spotify:track:07dYGGSrzPeg6a3KZjWX65</th>\n",
       "      <td>Boyfriend</td>\n",
       "      <td>Believe</td>\n",
       "      <td>spotify:album:7BWK3eXcbAdwYeulyQj5Kw</td>\n",
       "      <td>Justin Bieber</td>\n",
       "      <td>spotify:artist:1uNFoZAHBGtllmzznpCI3s</td>\n",
       "      <td>171333</td>\n",
       "    </tr>\n",
       "    <tr>\n",
       "      <th>spotify:track:1NpW5kyvO4XrNJ3rnfcNy3</th>\n",
       "      <td>Wild Ones (feat. Sia)</td>\n",
       "      <td>Wild Ones</td>\n",
       "      <td>spotify:album:7eLwoxxWs6lfkVYJGkGNbk</td>\n",
       "      <td>Flo Rida</td>\n",
       "      <td>spotify:artist:0jnsk9HBra6NMjO2oANoPY</td>\n",
       "      <td>232946</td>\n",
       "    </tr>\n",
       "  </tbody>\n",
       "</table>\n",
       "</div>"
      ],
      "text/plain": [
       "                                                                             track_name  \\\n",
       "track_uri                                                                                 \n",
       "spotify:track:6SbAbLqAWf2tnTdUy6Gmm5                           FUCKING BEST SONG EVERRR   \n",
       "spotify:track:1MvpPH6BTP3IrLnTjEA2gw                                      #STUPiDFACEDD   \n",
       "spotify:track:5rgy6ghBq1eRApCkeUdJXf  We Are Young (feat. Janelle Monáe) - feat. Jan...   \n",
       "spotify:track:07dYGGSrzPeg6a3KZjWX65                                          Boyfriend   \n",
       "spotify:track:1NpW5kyvO4XrNJ3rnfcNy3                              Wild Ones (feat. Sia)   \n",
       "\n",
       "                                                    album_name  \\\n",
       "track_uri                                                        \n",
       "spotify:track:6SbAbLqAWf2tnTdUy6Gmm5  FUCKING BEST SONG EVERRR   \n",
       "spotify:track:1MvpPH6BTP3IrLnTjEA2gw             #STUPiDFACEDD   \n",
       "spotify:track:5rgy6ghBq1eRApCkeUdJXf               Some Nights   \n",
       "spotify:track:07dYGGSrzPeg6a3KZjWX65                   Believe   \n",
       "spotify:track:1NpW5kyvO4XrNJ3rnfcNy3                 Wild Ones   \n",
       "\n",
       "                                                                 album_uri  \\\n",
       "track_uri                                                                    \n",
       "spotify:track:6SbAbLqAWf2tnTdUy6Gmm5  spotify:album:1hmvZb81DAeTx67G1FaTjZ   \n",
       "spotify:track:1MvpPH6BTP3IrLnTjEA2gw  spotify:album:1c7wJm9mghFyIKnQJOobW8   \n",
       "spotify:track:5rgy6ghBq1eRApCkeUdJXf  spotify:album:7m7F7SQ3BXvIpvOgjW51Gp   \n",
       "spotify:track:07dYGGSrzPeg6a3KZjWX65  spotify:album:7BWK3eXcbAdwYeulyQj5Kw   \n",
       "spotify:track:1NpW5kyvO4XrNJ3rnfcNy3  spotify:album:7eLwoxxWs6lfkVYJGkGNbk   \n",
       "\n",
       "                                        artist_name  \\\n",
       "track_uri                                             \n",
       "spotify:track:6SbAbLqAWf2tnTdUy6Gmm5     Wallpaper.   \n",
       "spotify:track:1MvpPH6BTP3IrLnTjEA2gw     Wallpaper.   \n",
       "spotify:track:5rgy6ghBq1eRApCkeUdJXf           fun.   \n",
       "spotify:track:07dYGGSrzPeg6a3KZjWX65  Justin Bieber   \n",
       "spotify:track:1NpW5kyvO4XrNJ3rnfcNy3       Flo Rida   \n",
       "\n",
       "                                                                 artist_uri  \\\n",
       "track_uri                                                                     \n",
       "spotify:track:6SbAbLqAWf2tnTdUy6Gmm5  spotify:artist:6NMcnx3vKGSAeqSMbySlpw   \n",
       "spotify:track:1MvpPH6BTP3IrLnTjEA2gw  spotify:artist:6NMcnx3vKGSAeqSMbySlpw   \n",
       "spotify:track:5rgy6ghBq1eRApCkeUdJXf  spotify:artist:5nCi3BB41mBaMH9gfr6Su0   \n",
       "spotify:track:07dYGGSrzPeg6a3KZjWX65  spotify:artist:1uNFoZAHBGtllmzznpCI3s   \n",
       "spotify:track:1NpW5kyvO4XrNJ3rnfcNy3  spotify:artist:0jnsk9HBra6NMjO2oANoPY   \n",
       "\n",
       "                                      duration_ms  \n",
       "track_uri                                          \n",
       "spotify:track:6SbAbLqAWf2tnTdUy6Gmm5       217800  \n",
       "spotify:track:1MvpPH6BTP3IrLnTjEA2gw       184026  \n",
       "spotify:track:5rgy6ghBq1eRApCkeUdJXf       250626  \n",
       "spotify:track:07dYGGSrzPeg6a3KZjWX65       171333  \n",
       "spotify:track:1NpW5kyvO4XrNJ3rnfcNy3       232946  "
      ]
     },
     "execution_count": 4,
     "metadata": {},
     "output_type": "execute_result"
    }
   ],
   "source": [
    "track_df = pd.read_csv(os.path.join(output_filepath_root, 'tracks_2017.csv'), index_col='track_uri')\n",
    "track_df.head(5)"
   ]
  },
  {
   "cell_type": "markdown",
   "id": "2bdd0b67-f21e-412f-89d5-81a6ba476dee",
   "metadata": {},
   "source": [
    "### Albums"
   ]
  },
  {
   "cell_type": "code",
   "execution_count": 5,
   "id": "fccfbca6-ff55-4438-a918-08c9cfe905b3",
   "metadata": {},
   "outputs": [
    {
     "data": {
      "text/html": [
       "<div>\n",
       "<style scoped>\n",
       "    .dataframe tbody tr th:only-of-type {\n",
       "        vertical-align: middle;\n",
       "    }\n",
       "\n",
       "    .dataframe tbody tr th {\n",
       "        vertical-align: top;\n",
       "    }\n",
       "\n",
       "    .dataframe thead th {\n",
       "        text-align: right;\n",
       "    }\n",
       "</style>\n",
       "<table border=\"1\" class=\"dataframe\">\n",
       "  <thead>\n",
       "    <tr style=\"text-align: right;\">\n",
       "      <th></th>\n",
       "      <th>album_name</th>\n",
       "      <th>artist_name</th>\n",
       "    </tr>\n",
       "    <tr>\n",
       "      <th>album_uri</th>\n",
       "      <th></th>\n",
       "      <th></th>\n",
       "    </tr>\n",
       "  </thead>\n",
       "  <tbody>\n",
       "    <tr>\n",
       "      <th>spotify:album:1hmvZb81DAeTx67G1FaTjZ</th>\n",
       "      <td>FUCKING BEST SONG EVERRR</td>\n",
       "      <td>Wallpaper.</td>\n",
       "    </tr>\n",
       "    <tr>\n",
       "      <th>spotify:album:1c7wJm9mghFyIKnQJOobW8</th>\n",
       "      <td>#STUPiDFACEDD</td>\n",
       "      <td>Wallpaper.</td>\n",
       "    </tr>\n",
       "    <tr>\n",
       "      <th>spotify:album:7m7F7SQ3BXvIpvOgjW51Gp</th>\n",
       "      <td>Some Nights</td>\n",
       "      <td>fun.</td>\n",
       "    </tr>\n",
       "    <tr>\n",
       "      <th>spotify:album:7BWK3eXcbAdwYeulyQj5Kw</th>\n",
       "      <td>Believe</td>\n",
       "      <td>Justin Bieber</td>\n",
       "    </tr>\n",
       "    <tr>\n",
       "      <th>spotify:album:7eLwoxxWs6lfkVYJGkGNbk</th>\n",
       "      <td>Wild Ones</td>\n",
       "      <td>Flo Rida</td>\n",
       "    </tr>\n",
       "  </tbody>\n",
       "</table>\n",
       "</div>"
      ],
      "text/plain": [
       "                                                    album_name    artist_name\n",
       "album_uri                                                                    \n",
       "spotify:album:1hmvZb81DAeTx67G1FaTjZ  FUCKING BEST SONG EVERRR     Wallpaper.\n",
       "spotify:album:1c7wJm9mghFyIKnQJOobW8             #STUPiDFACEDD     Wallpaper.\n",
       "spotify:album:7m7F7SQ3BXvIpvOgjW51Gp               Some Nights           fun.\n",
       "spotify:album:7BWK3eXcbAdwYeulyQj5Kw                   Believe  Justin Bieber\n",
       "spotify:album:7eLwoxxWs6lfkVYJGkGNbk                 Wild Ones       Flo Rida"
      ]
     },
     "execution_count": 5,
     "metadata": {},
     "output_type": "execute_result"
    }
   ],
   "source": [
    "album_df = pd.read_csv(os.path.join(output_filepath_root, 'albums_2017.csv'), index_col='album_uri')\n",
    "album_df.head(5)"
   ]
  },
  {
   "cell_type": "markdown",
   "id": "f164f6ce-20ec-417f-86a3-bcd58206b4d7",
   "metadata": {},
   "source": [
    "### Artists"
   ]
  },
  {
   "cell_type": "code",
   "execution_count": 6,
   "id": "c0f5e239-c6e1-40fe-b913-9022686ef47d",
   "metadata": {},
   "outputs": [
    {
     "data": {
      "text/html": [
       "<div>\n",
       "<style scoped>\n",
       "    .dataframe tbody tr th:only-of-type {\n",
       "        vertical-align: middle;\n",
       "    }\n",
       "\n",
       "    .dataframe tbody tr th {\n",
       "        vertical-align: top;\n",
       "    }\n",
       "\n",
       "    .dataframe thead th {\n",
       "        text-align: right;\n",
       "    }\n",
       "</style>\n",
       "<table border=\"1\" class=\"dataframe\">\n",
       "  <thead>\n",
       "    <tr style=\"text-align: right;\">\n",
       "      <th></th>\n",
       "      <th>artist_name</th>\n",
       "    </tr>\n",
       "    <tr>\n",
       "      <th>artist_uri</th>\n",
       "      <th></th>\n",
       "    </tr>\n",
       "  </thead>\n",
       "  <tbody>\n",
       "    <tr>\n",
       "      <th>spotify:artist:6NMcnx3vKGSAeqSMbySlpw</th>\n",
       "      <td>Wallpaper.</td>\n",
       "    </tr>\n",
       "    <tr>\n",
       "      <th>spotify:artist:5nCi3BB41mBaMH9gfr6Su0</th>\n",
       "      <td>fun.</td>\n",
       "    </tr>\n",
       "    <tr>\n",
       "      <th>spotify:artist:1uNFoZAHBGtllmzznpCI3s</th>\n",
       "      <td>Justin Bieber</td>\n",
       "    </tr>\n",
       "    <tr>\n",
       "      <th>spotify:artist:0jnsk9HBra6NMjO2oANoPY</th>\n",
       "      <td>Flo Rida</td>\n",
       "    </tr>\n",
       "    <tr>\n",
       "      <th>spotify:artist:4AK6F7OLvEQ5QYCBNiQWHq</th>\n",
       "      <td>One Direction</td>\n",
       "    </tr>\n",
       "  </tbody>\n",
       "</table>\n",
       "</div>"
      ],
      "text/plain": [
       "                                         artist_name\n",
       "artist_uri                                          \n",
       "spotify:artist:6NMcnx3vKGSAeqSMbySlpw     Wallpaper.\n",
       "spotify:artist:5nCi3BB41mBaMH9gfr6Su0           fun.\n",
       "spotify:artist:1uNFoZAHBGtllmzznpCI3s  Justin Bieber\n",
       "spotify:artist:0jnsk9HBra6NMjO2oANoPY       Flo Rida\n",
       "spotify:artist:4AK6F7OLvEQ5QYCBNiQWHq  One Direction"
      ]
     },
     "execution_count": 6,
     "metadata": {},
     "output_type": "execute_result"
    }
   ],
   "source": [
    "artist_df = pd.read_csv(os.path.join(output_filepath_root, 'artists_2017.csv'), index_col='artist_uri')\n",
    "artist_df.head(5)"
   ]
  },
  {
   "cell_type": "markdown",
   "id": "e8337a72-fbad-41df-bfea-d6dfcc4c77eb",
   "metadata": {},
   "source": [
    "## Create Dictionaries"
   ]
  },
  {
   "cell_type": "markdown",
   "id": "ec9ad880-9c6f-443d-ace1-cfb2e848abcf",
   "metadata": {},
   "source": [
    "### Playlists"
   ]
  },
  {
   "cell_type": "code",
   "execution_count": 7,
   "id": "35602064-0e96-48ec-a86a-3ae125d707ad",
   "metadata": {},
   "outputs": [],
   "source": [
    "playlist_dict = playlist_df.to_dict()"
   ]
  },
  {
   "cell_type": "code",
   "execution_count": 8,
   "id": "98ec6368-a81c-4ebf-92c0-3e3e957f995c",
   "metadata": {},
   "outputs": [],
   "source": [
    "def get_playlist_feature(pid, feature='name', dictionary=playlist_dict):\n",
    "    \"\"\"\n",
    "    Given a playlist PID (as a integer) and the playlist dictionary, return the requested feature.\n",
    "    \n",
    "    Features include:\n",
    "        - 'name'\n",
    "        - 'description'\n",
    "        - 'modified_at'\n",
    "        - 'modified_at_date'\n",
    "        - 'modified_at_year'\n",
    "        - 'modified_at_month'\n",
    "        - 'modified_at_day'\n",
    "        - 'modified_at_dow'\n",
    "        - 'num_artists'\n",
    "        - 'num_albums'\n",
    "        - 'num_tracks'\n",
    "        - 'num_followers'\n",
    "        - 'num_edits'\n",
    "        - 'duration_ms'\n",
    "        - 'collaborative'\n",
    "        - 'track_X_uri'\n",
    "        - 'track_X_album_uri'\n",
    "        - 'track_X_artist_uri'\n",
    "    \"\"\"\n",
    "    # Convert PID to integer\n",
    "    try:\n",
    "        pid = int(pid)\n",
    "    except Exception as e:\n",
    "        return e\n",
    "    # Lookup in dictionary\n",
    "    try:\n",
    "        return dictionary[feature][pid]\n",
    "    except Exception as e:\n",
    "        return e"
   ]
  },
  {
   "cell_type": "code",
   "execution_count": 9,
   "id": "8e42bce6-67c2-4ddf-8435-6da9f84b41c4",
   "metadata": {},
   "outputs": [
    {
     "data": {
      "text/plain": [
       "'Whatever'"
      ]
     },
     "execution_count": 9,
     "metadata": {},
     "output_type": "execute_result"
    }
   ],
   "source": [
    "get_playlist_feature('434004', 'name')"
   ]
  },
  {
   "cell_type": "markdown",
   "id": "c3133d7e-5fa3-4f29-bdd6-ab05a47cc59a",
   "metadata": {},
   "source": [
    "### Tracks"
   ]
  },
  {
   "cell_type": "code",
   "execution_count": 10,
   "id": "d6b06435-3acd-4606-8c9b-aa557d1aa139",
   "metadata": {},
   "outputs": [],
   "source": [
    "track_dict = track_df.to_dict()"
   ]
  },
  {
   "cell_type": "code",
   "execution_count": 11,
   "id": "ddf89aec-f180-471e-94c0-84e5dd3fb95d",
   "metadata": {},
   "outputs": [],
   "source": [
    "def get_track_feature(uri, feature='track_name', dictionary=track_dict):\n",
    "    \"\"\"\n",
    "    Given a track uri (as a string) and the track dictionary, return the requested feature.\n",
    "    \n",
    "    Features include:\n",
    "        - 'track_name'\n",
    "        - 'album_name'\n",
    "        - 'album_uri'\n",
    "        - 'artist_name'\n",
    "        - 'artist_uri'\n",
    "        - 'duration_ms'\n",
    "    \"\"\"\n",
    "    try:\n",
    "        return dictionary[feature][uri]\n",
    "    except Exception as e:\n",
    "        return e"
   ]
  },
  {
   "cell_type": "code",
   "execution_count": 12,
   "id": "9d666953-22d0-469a-b811-a449a0df00d8",
   "metadata": {},
   "outputs": [
    {
     "data": {
      "text/plain": [
       "'Some Nights'"
      ]
     },
     "execution_count": 12,
     "metadata": {},
     "output_type": "execute_result"
    }
   ],
   "source": [
    "get_track_feature('spotify:track:5rgy6ghBq1eRApCkeUdJXf', 'album_name')"
   ]
  },
  {
   "cell_type": "markdown",
   "id": "f642ec06-3cd3-47a6-b1ad-9f8cbc48d4c6",
   "metadata": {},
   "source": [
    "### Albums"
   ]
  },
  {
   "cell_type": "code",
   "execution_count": 13,
   "id": "0797d6a6-cbb0-4b7f-8435-7ae4f6f5eeb8",
   "metadata": {},
   "outputs": [],
   "source": [
    "album_dict = album_df.to_dict()"
   ]
  },
  {
   "cell_type": "code",
   "execution_count": 14,
   "id": "a20dba33-4e7c-4ca1-9814-ed45aedb2336",
   "metadata": {},
   "outputs": [],
   "source": [
    "def get_album_feature(uri, feature='album_name', dictionary=album_dict):\n",
    "    \"\"\"\n",
    "    Given an album uri (as a string) and the album dictionary, return the requested feature.\n",
    "    \n",
    "    Features include:\n",
    "        - 'album_name'\n",
    "        - 'artist_name'\n",
    "    \"\"\"\n",
    "    try:\n",
    "        return dictionary[feature][uri]\n",
    "    except Exception as e:\n",
    "        return e"
   ]
  },
  {
   "cell_type": "code",
   "execution_count": 15,
   "id": "c94315cd-a0b2-4621-a61d-3b6c6ce4ea6f",
   "metadata": {},
   "outputs": [
    {
     "data": {
      "text/plain": [
       "'Justin Bieber'"
      ]
     },
     "execution_count": 15,
     "metadata": {},
     "output_type": "execute_result"
    }
   ],
   "source": [
    "get_album_feature('spotify:album:7BWK3eXcbAdwYeulyQj5Kw', 'artist_name')"
   ]
  },
  {
   "cell_type": "markdown",
   "id": "6cc74296-3f8b-46f4-9cff-d7f534d80fc8",
   "metadata": {},
   "source": [
    "### Artists"
   ]
  },
  {
   "cell_type": "code",
   "execution_count": 16,
   "id": "3e5ff8fa-33c1-4a6a-9c5a-3b2fb6699f36",
   "metadata": {},
   "outputs": [],
   "source": [
    "artist_dict = artist_df.to_dict()"
   ]
  },
  {
   "cell_type": "code",
   "execution_count": 17,
   "id": "4955461b-bd4a-482e-b526-a991cf6efbbe",
   "metadata": {},
   "outputs": [],
   "source": [
    "def get_artist_feature(uri, feature='artist_name', dictionary=artist_dict):\n",
    "    \"\"\"\n",
    "    Given an artist uri (as a string) and the artist dictionary, return the requested feature.\n",
    "    \n",
    "    Features include:\n",
    "        - 'artist_name'\n",
    "    \"\"\"\n",
    "    try:\n",
    "        return dictionary[feature][uri]\n",
    "    except Exception as e:\n",
    "        return e"
   ]
  },
  {
   "cell_type": "code",
   "execution_count": 18,
   "id": "2c545571-a6cf-4dec-aded-f90f5944035e",
   "metadata": {},
   "outputs": [
    {
     "data": {
      "text/plain": [
       "'Justin Bieber'"
      ]
     },
     "execution_count": 18,
     "metadata": {},
     "output_type": "execute_result"
    }
   ],
   "source": [
    "get_artist_feature('spotify:artist:1uNFoZAHBGtllmzznpCI3s')"
   ]
  },
  {
   "cell_type": "code",
   "execution_count": null,
   "id": "6e252c15-8c28-41aa-9bff-79890dd98ceb",
   "metadata": {},
   "outputs": [],
   "source": []
  }
 ],
 "metadata": {
  "kernelspec": {
   "display_name": "Python [conda env:w207env]",
   "language": "python",
   "name": "conda-env-w207env-py"
  },
  "language_info": {
   "codemirror_mode": {
    "name": "ipython",
    "version": 3
   },
   "file_extension": ".py",
   "mimetype": "text/x-python",
   "name": "python",
   "nbconvert_exporter": "python",
   "pygments_lexer": "ipython3",
   "version": "3.9.12"
  }
 },
 "nbformat": 4,
 "nbformat_minor": 5
}
