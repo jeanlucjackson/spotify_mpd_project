{
 "cells": [
  {
   "cell_type": "markdown",
   "id": "53237b42-96cf-462e-9862-7932e268f3f4",
   "metadata": {},
   "source": [
    "# Approach: word2vec skip-gram embeddings model\n",
    "\n",
    "Based on [tensorflow's word2vec tutorial](https://www.tensorflow.org/tutorials/text/word2vec)"
   ]
  },
  {
   "cell_type": "markdown",
   "id": "1d367728-083f-4ae0-b507-d8becadc5592",
   "metadata": {
    "tags": []
   },
   "source": [
    "# Importing 2017 data\n",
    "Copying cells from `load_2017_data.ipynb` notebook, which produces the following:\n",
    "\n",
    "Loads the following csv's into **DataFrames**:\n",
    "- `playlist_2017.csv` $\\rightarrow$ `playlist_df`\n",
    "- `tracks_2017.csv` $\\rightarrow$ `track_df`\n",
    "- `albums_2017.csv` $\\rightarrow$ `album_df`\n",
    "- `artist_2017.csv` $\\rightarrow$ `artist_df`\n",
    "\n",
    "Then, the following **dictionaries** are created:\n",
    "- `playlist_dict`\n",
    "- `track_dict`\n",
    "- `album_dict`\n",
    "- `artist_dict`\n",
    "\n",
    "As well as the following **functions**:\n",
    "- `get_playlist_feature(PID, feature)`\n",
    "- `get_track_feature(URI, feature)`\n",
    "- `get_album_feature(URI, feature)`\n",
    "- `get_artist_feature(URI, feature)`"
   ]
  },
  {
   "cell_type": "code",
   "execution_count": 75,
   "id": "3a695541-bd5d-4bd7-9098-ccaf9c51653f",
   "metadata": {},
   "outputs": [],
   "source": [
    "import os\n",
    "import csv\n",
    "import tqdm\n",
    "\n",
    "import numpy as np\n",
    "import pandas as pd\n",
    "\n",
    "import tensorflow as tf\n"
   ]
  },
  {
   "cell_type": "markdown",
   "id": "46d18a7e-5c61-46f3-aa0a-e6a51e8f0c28",
   "metadata": {},
   "source": [
    "### Update data path as needed"
   ]
  },
  {
   "cell_type": "code",
   "execution_count": 4,
   "id": "21bd7104-a742-4e70-8d1c-7175f91884e6",
   "metadata": {},
   "outputs": [
    {
     "name": "stdout",
     "output_type": "stream",
     "text": [
      "../../data\n"
     ]
    }
   ],
   "source": [
    "# path to the DIRECTORY where CSV files are saved relative to this notebook\n",
    "path = '../../data'\n",
    "output_filepath_root = os.path.relpath(path)\n",
    "print(output_filepath_root)"
   ]
  },
  {
   "cell_type": "markdown",
   "id": "994e6523-0783-403a-8142-894e203b9904",
   "metadata": {},
   "source": [
    "## Load 2017 CSVs to DFs"
   ]
  },
  {
   "cell_type": "markdown",
   "id": "ccdc1421-dd7f-4ea2-be0b-037a026ea104",
   "metadata": {},
   "source": [
    "### Playlists"
   ]
  },
  {
   "cell_type": "code",
   "execution_count": 5,
   "id": "c0133b8b-fdd9-494e-a300-35c8be1630c2",
   "metadata": {},
   "outputs": [
    {
     "data": {
      "text/html": [
       "<div>\n",
       "<style scoped>\n",
       "    .dataframe tbody tr th:only-of-type {\n",
       "        vertical-align: middle;\n",
       "    }\n",
       "\n",
       "    .dataframe tbody tr th {\n",
       "        vertical-align: top;\n",
       "    }\n",
       "\n",
       "    .dataframe thead th {\n",
       "        text-align: right;\n",
       "    }\n",
       "</style>\n",
       "<table border=\"1\" class=\"dataframe\">\n",
       "  <thead>\n",
       "    <tr style=\"text-align: right;\">\n",
       "      <th></th>\n",
       "      <th>name</th>\n",
       "      <th>description</th>\n",
       "      <th>modified_at</th>\n",
       "      <th>num_artists</th>\n",
       "      <th>num_albums</th>\n",
       "      <th>num_tracks</th>\n",
       "      <th>num_followers</th>\n",
       "      <th>num_edits</th>\n",
       "      <th>duration_ms</th>\n",
       "      <th>collaborative</th>\n",
       "      <th>...</th>\n",
       "      <th>track_14_album_uri</th>\n",
       "      <th>track_14_artist_uri</th>\n",
       "      <th>track_15_uri</th>\n",
       "      <th>track_15_album_uri</th>\n",
       "      <th>track_15_artist_uri</th>\n",
       "      <th>modified_at_date</th>\n",
       "      <th>modified_at_year</th>\n",
       "      <th>modified_at_month</th>\n",
       "      <th>modified_at_day</th>\n",
       "      <th>modified_at_dow</th>\n",
       "    </tr>\n",
       "    <tr>\n",
       "      <th>pid</th>\n",
       "      <th></th>\n",
       "      <th></th>\n",
       "      <th></th>\n",
       "      <th></th>\n",
       "      <th></th>\n",
       "      <th></th>\n",
       "      <th></th>\n",
       "      <th></th>\n",
       "      <th></th>\n",
       "      <th></th>\n",
       "      <th></th>\n",
       "      <th></th>\n",
       "      <th></th>\n",
       "      <th></th>\n",
       "      <th></th>\n",
       "      <th></th>\n",
       "      <th></th>\n",
       "      <th></th>\n",
       "      <th></th>\n",
       "      <th></th>\n",
       "      <th></th>\n",
       "    </tr>\n",
       "  </thead>\n",
       "  <tbody>\n",
       "    <tr>\n",
       "      <th>434000</th>\n",
       "      <td>Sad</td>\n",
       "      <td>NaN</td>\n",
       "      <td>1488240000</td>\n",
       "      <td>24</td>\n",
       "      <td>26</td>\n",
       "      <td>27</td>\n",
       "      <td>1</td>\n",
       "      <td>6</td>\n",
       "      <td>6081757</td>\n",
       "      <td>False</td>\n",
       "      <td>...</td>\n",
       "      <td>spotify:album:4M9Ti6t5h54aDMX4SizDfT</td>\n",
       "      <td>spotify:artist:4vVfuZfXWu18vk5Z4C7wbm</td>\n",
       "      <td>spotify:track:3yrVRdwCbEeKODZgG2mVZX</td>\n",
       "      <td>spotify:album:3SCJmoy3Z45p84IfuaM9YQ</td>\n",
       "      <td>spotify:artist:2EO56JK4txid1Pss9GVbOL</td>\n",
       "      <td>2017-02-28</td>\n",
       "      <td>2017</td>\n",
       "      <td>2</td>\n",
       "      <td>28</td>\n",
       "      <td>1</td>\n",
       "    </tr>\n",
       "    <tr>\n",
       "      <th>434001</th>\n",
       "      <td>pb&amp;j</td>\n",
       "      <td>faves tbh</td>\n",
       "      <td>1487808000</td>\n",
       "      <td>35</td>\n",
       "      <td>38</td>\n",
       "      <td>39</td>\n",
       "      <td>1</td>\n",
       "      <td>9</td>\n",
       "      <td>8959761</td>\n",
       "      <td>False</td>\n",
       "      <td>...</td>\n",
       "      <td>spotify:album:6deiaArbeoqp1xPEGdEKp1</td>\n",
       "      <td>spotify:artist:0L8ExT028jH3ddEcZwqJJ5</td>\n",
       "      <td>spotify:track:5E30LdtzQTGqRvNd7l6kG5</td>\n",
       "      <td>spotify:album:18iFxjZugvKhuNNMbLjZJF</td>\n",
       "      <td>spotify:artist:77SW9BnxLY8rJ0RciFqkHh</td>\n",
       "      <td>2017-02-23</td>\n",
       "      <td>2017</td>\n",
       "      <td>2</td>\n",
       "      <td>23</td>\n",
       "      <td>3</td>\n",
       "    </tr>\n",
       "    <tr>\n",
       "      <th>434004</th>\n",
       "      <td>Whatever</td>\n",
       "      <td>NaN</td>\n",
       "      <td>1506816000</td>\n",
       "      <td>36</td>\n",
       "      <td>57</td>\n",
       "      <td>79</td>\n",
       "      <td>1</td>\n",
       "      <td>46</td>\n",
       "      <td>18874072</td>\n",
       "      <td>False</td>\n",
       "      <td>...</td>\n",
       "      <td>spotify:album:2Tyx5dLhHYkx6zeAdVaTzN</td>\n",
       "      <td>spotify:artist:4LLpKhyESsyAXpc4laK94U</td>\n",
       "      <td>spotify:track:0htTZnlk6okQ1HIq4EvFQ6</td>\n",
       "      <td>spotify:album:6liIoWzpvrff945pUI7fHt</td>\n",
       "      <td>spotify:artist:02kJSzxNuaWGqwubyUba0Z</td>\n",
       "      <td>2017-10-01</td>\n",
       "      <td>2017</td>\n",
       "      <td>10</td>\n",
       "      <td>1</td>\n",
       "      <td>6</td>\n",
       "    </tr>\n",
       "    <tr>\n",
       "      <th>434005</th>\n",
       "      <td>roadtrip</td>\n",
       "      <td>NaN</td>\n",
       "      <td>1492905600</td>\n",
       "      <td>30</td>\n",
       "      <td>35</td>\n",
       "      <td>70</td>\n",
       "      <td>1</td>\n",
       "      <td>18</td>\n",
       "      <td>15696608</td>\n",
       "      <td>False</td>\n",
       "      <td>...</td>\n",
       "      <td>spotify:album:6DwdzG4UGYLxJ2p7bd483v</td>\n",
       "      <td>spotify:artist:2Q0MyH5YMI5HPQjFjlq5g3</td>\n",
       "      <td>spotify:track:4XvKjZWIqsHvvza89lMTAH</td>\n",
       "      <td>spotify:album:6izXZb0VGaUHqm5GaXq4YC</td>\n",
       "      <td>spotify:artist:5IXalAOiV9I8LgLMGZydmt</td>\n",
       "      <td>2017-04-23</td>\n",
       "      <td>2017</td>\n",
       "      <td>4</td>\n",
       "      <td>23</td>\n",
       "      <td>6</td>\n",
       "    </tr>\n",
       "    <tr>\n",
       "      <th>434007</th>\n",
       "      <td>Cumbias</td>\n",
       "      <td>NaN</td>\n",
       "      <td>1507507200</td>\n",
       "      <td>23</td>\n",
       "      <td>42</td>\n",
       "      <td>50</td>\n",
       "      <td>1</td>\n",
       "      <td>21</td>\n",
       "      <td>10255699</td>\n",
       "      <td>False</td>\n",
       "      <td>...</td>\n",
       "      <td>spotify:album:392uNMyh5D6fqkBS385XJd</td>\n",
       "      <td>spotify:artist:3zzeZVLuOeetfimOd4k8rE</td>\n",
       "      <td>spotify:track:1yOLrH7nF0R7MWDuuva6va</td>\n",
       "      <td>spotify:album:2rXbAorimO8C06RkqS2oq5</td>\n",
       "      <td>spotify:artist:0OhiQFSqbnnmB52NWEpsO5</td>\n",
       "      <td>2017-10-09</td>\n",
       "      <td>2017</td>\n",
       "      <td>10</td>\n",
       "      <td>9</td>\n",
       "      <td>0</td>\n",
       "    </tr>\n",
       "  </tbody>\n",
       "</table>\n",
       "<p>5 rows × 60 columns</p>\n",
       "</div>"
      ],
      "text/plain": [
       "            name description  modified_at  num_artists  num_albums  \\\n",
       "pid                                                                  \n",
       "434000       Sad         NaN   1488240000           24          26   \n",
       "434001      pb&j   faves tbh   1487808000           35          38   \n",
       "434004  Whatever         NaN   1506816000           36          57   \n",
       "434005  roadtrip         NaN   1492905600           30          35   \n",
       "434007   Cumbias         NaN   1507507200           23          42   \n",
       "\n",
       "        num_tracks  num_followers  num_edits  duration_ms  collaborative  ...  \\\n",
       "pid                                                                       ...   \n",
       "434000          27              1          6      6081757          False  ...   \n",
       "434001          39              1          9      8959761          False  ...   \n",
       "434004          79              1         46     18874072          False  ...   \n",
       "434005          70              1         18     15696608          False  ...   \n",
       "434007          50              1         21     10255699          False  ...   \n",
       "\n",
       "                          track_14_album_uri  \\\n",
       "pid                                            \n",
       "434000  spotify:album:4M9Ti6t5h54aDMX4SizDfT   \n",
       "434001  spotify:album:6deiaArbeoqp1xPEGdEKp1   \n",
       "434004  spotify:album:2Tyx5dLhHYkx6zeAdVaTzN   \n",
       "434005  spotify:album:6DwdzG4UGYLxJ2p7bd483v   \n",
       "434007  spotify:album:392uNMyh5D6fqkBS385XJd   \n",
       "\n",
       "                          track_14_artist_uri  \\\n",
       "pid                                             \n",
       "434000  spotify:artist:4vVfuZfXWu18vk5Z4C7wbm   \n",
       "434001  spotify:artist:0L8ExT028jH3ddEcZwqJJ5   \n",
       "434004  spotify:artist:4LLpKhyESsyAXpc4laK94U   \n",
       "434005  spotify:artist:2Q0MyH5YMI5HPQjFjlq5g3   \n",
       "434007  spotify:artist:3zzeZVLuOeetfimOd4k8rE   \n",
       "\n",
       "                                track_15_uri  \\\n",
       "pid                                            \n",
       "434000  spotify:track:3yrVRdwCbEeKODZgG2mVZX   \n",
       "434001  spotify:track:5E30LdtzQTGqRvNd7l6kG5   \n",
       "434004  spotify:track:0htTZnlk6okQ1HIq4EvFQ6   \n",
       "434005  spotify:track:4XvKjZWIqsHvvza89lMTAH   \n",
       "434007  spotify:track:1yOLrH7nF0R7MWDuuva6va   \n",
       "\n",
       "                          track_15_album_uri  \\\n",
       "pid                                            \n",
       "434000  spotify:album:3SCJmoy3Z45p84IfuaM9YQ   \n",
       "434001  spotify:album:18iFxjZugvKhuNNMbLjZJF   \n",
       "434004  spotify:album:6liIoWzpvrff945pUI7fHt   \n",
       "434005  spotify:album:6izXZb0VGaUHqm5GaXq4YC   \n",
       "434007  spotify:album:2rXbAorimO8C06RkqS2oq5   \n",
       "\n",
       "                          track_15_artist_uri modified_at_date  \\\n",
       "pid                                                              \n",
       "434000  spotify:artist:2EO56JK4txid1Pss9GVbOL       2017-02-28   \n",
       "434001  spotify:artist:77SW9BnxLY8rJ0RciFqkHh       2017-02-23   \n",
       "434004  spotify:artist:02kJSzxNuaWGqwubyUba0Z       2017-10-01   \n",
       "434005  spotify:artist:5IXalAOiV9I8LgLMGZydmt       2017-04-23   \n",
       "434007  spotify:artist:0OhiQFSqbnnmB52NWEpsO5       2017-10-09   \n",
       "\n",
       "       modified_at_year modified_at_month modified_at_day modified_at_dow  \n",
       "pid                                                                        \n",
       "434000             2017                 2              28               1  \n",
       "434001             2017                 2              23               3  \n",
       "434004             2017                10               1               6  \n",
       "434005             2017                 4              23               6  \n",
       "434007             2017                10               9               0  \n",
       "\n",
       "[5 rows x 60 columns]"
      ]
     },
     "execution_count": 5,
     "metadata": {},
     "output_type": "execute_result"
    }
   ],
   "source": [
    "playlist_df = pd.read_csv(os.path.join(output_filepath_root, 'playlists_2017.csv'), index_col='pid')\n",
    "playlist_df.head(5)"
   ]
  },
  {
   "cell_type": "markdown",
   "id": "6b30697a-91ad-4400-868c-080dd815e8a2",
   "metadata": {},
   "source": [
    "### Tracks"
   ]
  },
  {
   "cell_type": "code",
   "execution_count": 6,
   "id": "d8c9b6a0-de71-4715-81c7-ac48b254ec8c",
   "metadata": {},
   "outputs": [
    {
     "data": {
      "text/html": [
       "<div>\n",
       "<style scoped>\n",
       "    .dataframe tbody tr th:only-of-type {\n",
       "        vertical-align: middle;\n",
       "    }\n",
       "\n",
       "    .dataframe tbody tr th {\n",
       "        vertical-align: top;\n",
       "    }\n",
       "\n",
       "    .dataframe thead th {\n",
       "        text-align: right;\n",
       "    }\n",
       "</style>\n",
       "<table border=\"1\" class=\"dataframe\">\n",
       "  <thead>\n",
       "    <tr style=\"text-align: right;\">\n",
       "      <th></th>\n",
       "      <th>track_name</th>\n",
       "      <th>album_name</th>\n",
       "      <th>album_uri</th>\n",
       "      <th>artist_name</th>\n",
       "      <th>artist_uri</th>\n",
       "      <th>duration_ms</th>\n",
       "    </tr>\n",
       "    <tr>\n",
       "      <th>track_uri</th>\n",
       "      <th></th>\n",
       "      <th></th>\n",
       "      <th></th>\n",
       "      <th></th>\n",
       "      <th></th>\n",
       "      <th></th>\n",
       "    </tr>\n",
       "  </thead>\n",
       "  <tbody>\n",
       "    <tr>\n",
       "      <th>spotify:track:6SbAbLqAWf2tnTdUy6Gmm5</th>\n",
       "      <td>FUCKING BEST SONG EVERRR</td>\n",
       "      <td>FUCKING BEST SONG EVERRR</td>\n",
       "      <td>spotify:album:1hmvZb81DAeTx67G1FaTjZ</td>\n",
       "      <td>Wallpaper.</td>\n",
       "      <td>spotify:artist:6NMcnx3vKGSAeqSMbySlpw</td>\n",
       "      <td>217800</td>\n",
       "    </tr>\n",
       "    <tr>\n",
       "      <th>spotify:track:1MvpPH6BTP3IrLnTjEA2gw</th>\n",
       "      <td>#STUPiDFACEDD</td>\n",
       "      <td>#STUPiDFACEDD</td>\n",
       "      <td>spotify:album:1c7wJm9mghFyIKnQJOobW8</td>\n",
       "      <td>Wallpaper.</td>\n",
       "      <td>spotify:artist:6NMcnx3vKGSAeqSMbySlpw</td>\n",
       "      <td>184026</td>\n",
       "    </tr>\n",
       "    <tr>\n",
       "      <th>spotify:track:5rgy6ghBq1eRApCkeUdJXf</th>\n",
       "      <td>We Are Young (feat. Janelle Monáe) - feat. Jan...</td>\n",
       "      <td>Some Nights</td>\n",
       "      <td>spotify:album:7m7F7SQ3BXvIpvOgjW51Gp</td>\n",
       "      <td>fun.</td>\n",
       "      <td>spotify:artist:5nCi3BB41mBaMH9gfr6Su0</td>\n",
       "      <td>250626</td>\n",
       "    </tr>\n",
       "    <tr>\n",
       "      <th>spotify:track:07dYGGSrzPeg6a3KZjWX65</th>\n",
       "      <td>Boyfriend</td>\n",
       "      <td>Believe</td>\n",
       "      <td>spotify:album:7BWK3eXcbAdwYeulyQj5Kw</td>\n",
       "      <td>Justin Bieber</td>\n",
       "      <td>spotify:artist:1uNFoZAHBGtllmzznpCI3s</td>\n",
       "      <td>171333</td>\n",
       "    </tr>\n",
       "    <tr>\n",
       "      <th>spotify:track:1NpW5kyvO4XrNJ3rnfcNy3</th>\n",
       "      <td>Wild Ones (feat. Sia)</td>\n",
       "      <td>Wild Ones</td>\n",
       "      <td>spotify:album:7eLwoxxWs6lfkVYJGkGNbk</td>\n",
       "      <td>Flo Rida</td>\n",
       "      <td>spotify:artist:0jnsk9HBra6NMjO2oANoPY</td>\n",
       "      <td>232946</td>\n",
       "    </tr>\n",
       "  </tbody>\n",
       "</table>\n",
       "</div>"
      ],
      "text/plain": [
       "                                                                             track_name  \\\n",
       "track_uri                                                                                 \n",
       "spotify:track:6SbAbLqAWf2tnTdUy6Gmm5                           FUCKING BEST SONG EVERRR   \n",
       "spotify:track:1MvpPH6BTP3IrLnTjEA2gw                                      #STUPiDFACEDD   \n",
       "spotify:track:5rgy6ghBq1eRApCkeUdJXf  We Are Young (feat. Janelle Monáe) - feat. Jan...   \n",
       "spotify:track:07dYGGSrzPeg6a3KZjWX65                                          Boyfriend   \n",
       "spotify:track:1NpW5kyvO4XrNJ3rnfcNy3                              Wild Ones (feat. Sia)   \n",
       "\n",
       "                                                    album_name  \\\n",
       "track_uri                                                        \n",
       "spotify:track:6SbAbLqAWf2tnTdUy6Gmm5  FUCKING BEST SONG EVERRR   \n",
       "spotify:track:1MvpPH6BTP3IrLnTjEA2gw             #STUPiDFACEDD   \n",
       "spotify:track:5rgy6ghBq1eRApCkeUdJXf               Some Nights   \n",
       "spotify:track:07dYGGSrzPeg6a3KZjWX65                   Believe   \n",
       "spotify:track:1NpW5kyvO4XrNJ3rnfcNy3                 Wild Ones   \n",
       "\n",
       "                                                                 album_uri  \\\n",
       "track_uri                                                                    \n",
       "spotify:track:6SbAbLqAWf2tnTdUy6Gmm5  spotify:album:1hmvZb81DAeTx67G1FaTjZ   \n",
       "spotify:track:1MvpPH6BTP3IrLnTjEA2gw  spotify:album:1c7wJm9mghFyIKnQJOobW8   \n",
       "spotify:track:5rgy6ghBq1eRApCkeUdJXf  spotify:album:7m7F7SQ3BXvIpvOgjW51Gp   \n",
       "spotify:track:07dYGGSrzPeg6a3KZjWX65  spotify:album:7BWK3eXcbAdwYeulyQj5Kw   \n",
       "spotify:track:1NpW5kyvO4XrNJ3rnfcNy3  spotify:album:7eLwoxxWs6lfkVYJGkGNbk   \n",
       "\n",
       "                                        artist_name  \\\n",
       "track_uri                                             \n",
       "spotify:track:6SbAbLqAWf2tnTdUy6Gmm5     Wallpaper.   \n",
       "spotify:track:1MvpPH6BTP3IrLnTjEA2gw     Wallpaper.   \n",
       "spotify:track:5rgy6ghBq1eRApCkeUdJXf           fun.   \n",
       "spotify:track:07dYGGSrzPeg6a3KZjWX65  Justin Bieber   \n",
       "spotify:track:1NpW5kyvO4XrNJ3rnfcNy3       Flo Rida   \n",
       "\n",
       "                                                                 artist_uri  \\\n",
       "track_uri                                                                     \n",
       "spotify:track:6SbAbLqAWf2tnTdUy6Gmm5  spotify:artist:6NMcnx3vKGSAeqSMbySlpw   \n",
       "spotify:track:1MvpPH6BTP3IrLnTjEA2gw  spotify:artist:6NMcnx3vKGSAeqSMbySlpw   \n",
       "spotify:track:5rgy6ghBq1eRApCkeUdJXf  spotify:artist:5nCi3BB41mBaMH9gfr6Su0   \n",
       "spotify:track:07dYGGSrzPeg6a3KZjWX65  spotify:artist:1uNFoZAHBGtllmzznpCI3s   \n",
       "spotify:track:1NpW5kyvO4XrNJ3rnfcNy3  spotify:artist:0jnsk9HBra6NMjO2oANoPY   \n",
       "\n",
       "                                      duration_ms  \n",
       "track_uri                                          \n",
       "spotify:track:6SbAbLqAWf2tnTdUy6Gmm5       217800  \n",
       "spotify:track:1MvpPH6BTP3IrLnTjEA2gw       184026  \n",
       "spotify:track:5rgy6ghBq1eRApCkeUdJXf       250626  \n",
       "spotify:track:07dYGGSrzPeg6a3KZjWX65       171333  \n",
       "spotify:track:1NpW5kyvO4XrNJ3rnfcNy3       232946  "
      ]
     },
     "execution_count": 6,
     "metadata": {},
     "output_type": "execute_result"
    }
   ],
   "source": [
    "track_df = pd.read_csv(os.path.join(output_filepath_root, 'tracks_2017.csv'), index_col='track_uri')\n",
    "track_df.head(5)"
   ]
  },
  {
   "cell_type": "markdown",
   "id": "5d40b2cf-c795-407a-902f-59ebaa2e2fdf",
   "metadata": {},
   "source": [
    "### Albums"
   ]
  },
  {
   "cell_type": "code",
   "execution_count": 7,
   "id": "7f956f88-ce53-4004-a5b3-66ef8bb8ee91",
   "metadata": {},
   "outputs": [
    {
     "data": {
      "text/html": [
       "<div>\n",
       "<style scoped>\n",
       "    .dataframe tbody tr th:only-of-type {\n",
       "        vertical-align: middle;\n",
       "    }\n",
       "\n",
       "    .dataframe tbody tr th {\n",
       "        vertical-align: top;\n",
       "    }\n",
       "\n",
       "    .dataframe thead th {\n",
       "        text-align: right;\n",
       "    }\n",
       "</style>\n",
       "<table border=\"1\" class=\"dataframe\">\n",
       "  <thead>\n",
       "    <tr style=\"text-align: right;\">\n",
       "      <th></th>\n",
       "      <th>album_name</th>\n",
       "      <th>artist_name</th>\n",
       "    </tr>\n",
       "    <tr>\n",
       "      <th>album_uri</th>\n",
       "      <th></th>\n",
       "      <th></th>\n",
       "    </tr>\n",
       "  </thead>\n",
       "  <tbody>\n",
       "    <tr>\n",
       "      <th>spotify:album:1hmvZb81DAeTx67G1FaTjZ</th>\n",
       "      <td>FUCKING BEST SONG EVERRR</td>\n",
       "      <td>Wallpaper.</td>\n",
       "    </tr>\n",
       "    <tr>\n",
       "      <th>spotify:album:1c7wJm9mghFyIKnQJOobW8</th>\n",
       "      <td>#STUPiDFACEDD</td>\n",
       "      <td>Wallpaper.</td>\n",
       "    </tr>\n",
       "    <tr>\n",
       "      <th>spotify:album:7m7F7SQ3BXvIpvOgjW51Gp</th>\n",
       "      <td>Some Nights</td>\n",
       "      <td>fun.</td>\n",
       "    </tr>\n",
       "    <tr>\n",
       "      <th>spotify:album:7BWK3eXcbAdwYeulyQj5Kw</th>\n",
       "      <td>Believe</td>\n",
       "      <td>Justin Bieber</td>\n",
       "    </tr>\n",
       "    <tr>\n",
       "      <th>spotify:album:7eLwoxxWs6lfkVYJGkGNbk</th>\n",
       "      <td>Wild Ones</td>\n",
       "      <td>Flo Rida</td>\n",
       "    </tr>\n",
       "  </tbody>\n",
       "</table>\n",
       "</div>"
      ],
      "text/plain": [
       "                                                    album_name    artist_name\n",
       "album_uri                                                                    \n",
       "spotify:album:1hmvZb81DAeTx67G1FaTjZ  FUCKING BEST SONG EVERRR     Wallpaper.\n",
       "spotify:album:1c7wJm9mghFyIKnQJOobW8             #STUPiDFACEDD     Wallpaper.\n",
       "spotify:album:7m7F7SQ3BXvIpvOgjW51Gp               Some Nights           fun.\n",
       "spotify:album:7BWK3eXcbAdwYeulyQj5Kw                   Believe  Justin Bieber\n",
       "spotify:album:7eLwoxxWs6lfkVYJGkGNbk                 Wild Ones       Flo Rida"
      ]
     },
     "execution_count": 7,
     "metadata": {},
     "output_type": "execute_result"
    }
   ],
   "source": [
    "album_df = pd.read_csv(os.path.join(output_filepath_root, 'albums_2017.csv'), index_col='album_uri')\n",
    "album_df.head(5)"
   ]
  },
  {
   "cell_type": "markdown",
   "id": "59fb9f11-99f7-4ba1-9b10-11ae0fc8ba37",
   "metadata": {},
   "source": [
    "### Artists"
   ]
  },
  {
   "cell_type": "code",
   "execution_count": 8,
   "id": "7268d1b2-82ee-4f61-ba37-201c81f77edd",
   "metadata": {},
   "outputs": [
    {
     "data": {
      "text/html": [
       "<div>\n",
       "<style scoped>\n",
       "    .dataframe tbody tr th:only-of-type {\n",
       "        vertical-align: middle;\n",
       "    }\n",
       "\n",
       "    .dataframe tbody tr th {\n",
       "        vertical-align: top;\n",
       "    }\n",
       "\n",
       "    .dataframe thead th {\n",
       "        text-align: right;\n",
       "    }\n",
       "</style>\n",
       "<table border=\"1\" class=\"dataframe\">\n",
       "  <thead>\n",
       "    <tr style=\"text-align: right;\">\n",
       "      <th></th>\n",
       "      <th>artist_name</th>\n",
       "    </tr>\n",
       "    <tr>\n",
       "      <th>artist_uri</th>\n",
       "      <th></th>\n",
       "    </tr>\n",
       "  </thead>\n",
       "  <tbody>\n",
       "    <tr>\n",
       "      <th>spotify:artist:6NMcnx3vKGSAeqSMbySlpw</th>\n",
       "      <td>Wallpaper.</td>\n",
       "    </tr>\n",
       "    <tr>\n",
       "      <th>spotify:artist:5nCi3BB41mBaMH9gfr6Su0</th>\n",
       "      <td>fun.</td>\n",
       "    </tr>\n",
       "    <tr>\n",
       "      <th>spotify:artist:1uNFoZAHBGtllmzznpCI3s</th>\n",
       "      <td>Justin Bieber</td>\n",
       "    </tr>\n",
       "    <tr>\n",
       "      <th>spotify:artist:0jnsk9HBra6NMjO2oANoPY</th>\n",
       "      <td>Flo Rida</td>\n",
       "    </tr>\n",
       "    <tr>\n",
       "      <th>spotify:artist:4AK6F7OLvEQ5QYCBNiQWHq</th>\n",
       "      <td>One Direction</td>\n",
       "    </tr>\n",
       "  </tbody>\n",
       "</table>\n",
       "</div>"
      ],
      "text/plain": [
       "                                         artist_name\n",
       "artist_uri                                          \n",
       "spotify:artist:6NMcnx3vKGSAeqSMbySlpw     Wallpaper.\n",
       "spotify:artist:5nCi3BB41mBaMH9gfr6Su0           fun.\n",
       "spotify:artist:1uNFoZAHBGtllmzznpCI3s  Justin Bieber\n",
       "spotify:artist:0jnsk9HBra6NMjO2oANoPY       Flo Rida\n",
       "spotify:artist:4AK6F7OLvEQ5QYCBNiQWHq  One Direction"
      ]
     },
     "execution_count": 8,
     "metadata": {},
     "output_type": "execute_result"
    }
   ],
   "source": [
    "artist_df = pd.read_csv(os.path.join(output_filepath_root, 'artists_2017.csv'), index_col='artist_uri')\n",
    "artist_df.head(5)"
   ]
  },
  {
   "cell_type": "markdown",
   "id": "3fcd5c5a-3c30-4b83-b87f-995b16be62db",
   "metadata": {},
   "source": [
    "## Create Dictionaries"
   ]
  },
  {
   "cell_type": "markdown",
   "id": "4c4ee649-e2d5-4c93-8bec-db1b1cb57fef",
   "metadata": {},
   "source": [
    "### Playlists"
   ]
  },
  {
   "cell_type": "code",
   "execution_count": 9,
   "id": "f17b3301-bb97-424f-93d9-728f4f8369c4",
   "metadata": {},
   "outputs": [],
   "source": [
    "playlist_dict = playlist_df.to_dict()"
   ]
  },
  {
   "cell_type": "code",
   "execution_count": 10,
   "id": "89b97f6a-ae69-4748-940d-51068aabc3f1",
   "metadata": {},
   "outputs": [],
   "source": [
    "def get_playlist_feature(pid, feature='name', dictionary=playlist_dict):\n",
    "    \"\"\"\n",
    "    Given a playlist PID (as a integer) and the playlist dictionary, return the requested feature.\n",
    "    \n",
    "    Features include:\n",
    "        - 'name'\n",
    "        - 'description'\n",
    "        - 'modified_at'\n",
    "        - 'modified_at_date'\n",
    "        - 'modified_at_year'\n",
    "        - 'modified_at_month'\n",
    "        - 'modified_at_day'\n",
    "        - 'modified_at_dow'\n",
    "        - 'num_artists'\n",
    "        - 'num_albums'\n",
    "        - 'num_tracks'\n",
    "        - 'num_followers'\n",
    "        - 'num_edits'\n",
    "        - 'duration_ms'\n",
    "        - 'collaborative'\n",
    "        - 'track_X_uri'\n",
    "        - 'track_X_album_uri'\n",
    "        - 'track_X_artist_uri'\n",
    "    \"\"\"\n",
    "    # Convert PID to integer\n",
    "    try:\n",
    "        pid = int(pid)\n",
    "    except Exception as e:\n",
    "        return e\n",
    "    # Lookup in dictionary\n",
    "    try:\n",
    "        return dictionary[feature][pid]\n",
    "    except Exception as e:\n",
    "        return e"
   ]
  },
  {
   "cell_type": "code",
   "execution_count": 11,
   "id": "2765a06a-059d-4eb8-a883-58031a5517b2",
   "metadata": {},
   "outputs": [
    {
     "data": {
      "text/plain": [
       "'Whatever'"
      ]
     },
     "execution_count": 11,
     "metadata": {},
     "output_type": "execute_result"
    }
   ],
   "source": [
    "get_playlist_feature('434004', 'name')"
   ]
  },
  {
   "cell_type": "markdown",
   "id": "b6adb6d5-68cc-476f-bc7a-f1ad003ee5d1",
   "metadata": {},
   "source": [
    "### Tracks"
   ]
  },
  {
   "cell_type": "code",
   "execution_count": 12,
   "id": "769a4d9e-fd6e-4892-91b0-e29da49f33e8",
   "metadata": {},
   "outputs": [],
   "source": [
    "track_dict = track_df.to_dict()"
   ]
  },
  {
   "cell_type": "code",
   "execution_count": 13,
   "id": "0bdabc93-0acb-4e29-97a7-aed8e9a7cebd",
   "metadata": {},
   "outputs": [],
   "source": [
    "def get_track_feature(uri, feature='track_name', dictionary=track_dict):\n",
    "    \"\"\"\n",
    "    Given a track uri (as a string) and the track dictionary, return the requested feature.\n",
    "    \n",
    "    Features include:\n",
    "        - 'track_name'\n",
    "        - 'album_name'\n",
    "        - 'album_uri'\n",
    "        - 'artist_name'\n",
    "        - 'artist_uri'\n",
    "        - 'duration_ms'\n",
    "    \"\"\"\n",
    "    try:\n",
    "        return dictionary[feature][uri]\n",
    "    except Exception as e:\n",
    "        return e"
   ]
  },
  {
   "cell_type": "code",
   "execution_count": 14,
   "id": "017e5a5b-f8f8-4970-9f01-80951ab76e0b",
   "metadata": {},
   "outputs": [
    {
     "data": {
      "text/plain": [
       "'Some Nights'"
      ]
     },
     "execution_count": 14,
     "metadata": {},
     "output_type": "execute_result"
    }
   ],
   "source": [
    "get_track_feature('spotify:track:5rgy6ghBq1eRApCkeUdJXf', 'album_name')"
   ]
  },
  {
   "cell_type": "markdown",
   "id": "508ede2f-a4c9-43a0-80f9-a4cafdb31848",
   "metadata": {},
   "source": [
    "### Albums"
   ]
  },
  {
   "cell_type": "code",
   "execution_count": 15,
   "id": "b049dfe7-0a8b-4f4e-b69d-68c36d2bac9a",
   "metadata": {},
   "outputs": [],
   "source": [
    "album_dict = album_df.to_dict()"
   ]
  },
  {
   "cell_type": "code",
   "execution_count": 16,
   "id": "8b70fc2c-8b1c-4e71-9c5d-e9488e442954",
   "metadata": {},
   "outputs": [],
   "source": [
    "def get_album_feature(uri, feature='album_name', dictionary=album_dict):\n",
    "    \"\"\"\n",
    "    Given an album uri (as a string) and the album dictionary, return the requested feature.\n",
    "    \n",
    "    Features include:\n",
    "        - 'album_name'\n",
    "        - 'artist_name'\n",
    "    \"\"\"\n",
    "    try:\n",
    "        return dictionary[feature][uri]\n",
    "    except Exception as e:\n",
    "        return e"
   ]
  },
  {
   "cell_type": "code",
   "execution_count": 17,
   "id": "c4417db1-5eee-4a3f-915d-df773512ffde",
   "metadata": {},
   "outputs": [
    {
     "data": {
      "text/plain": [
       "'Justin Bieber'"
      ]
     },
     "execution_count": 17,
     "metadata": {},
     "output_type": "execute_result"
    }
   ],
   "source": [
    "get_album_feature('spotify:album:7BWK3eXcbAdwYeulyQj5Kw', 'artist_name')"
   ]
  },
  {
   "cell_type": "markdown",
   "id": "7cd7170e-5ffd-4e49-8f3d-2bdc280ea441",
   "metadata": {},
   "source": [
    "### Artists"
   ]
  },
  {
   "cell_type": "code",
   "execution_count": 18,
   "id": "8338ac53-031b-4726-a89c-0d90f8f41ff3",
   "metadata": {},
   "outputs": [],
   "source": [
    "artist_dict = artist_df.to_dict()"
   ]
  },
  {
   "cell_type": "code",
   "execution_count": 19,
   "id": "5d8451de-503f-487c-a6aa-a8643fdbfc2e",
   "metadata": {},
   "outputs": [],
   "source": [
    "def get_artist_feature(uri, feature='artist_name', dictionary=artist_dict):\n",
    "    \"\"\"\n",
    "    Given an artist uri (as a string) and the artist dictionary, return the requested feature.\n",
    "    \n",
    "    Features include:\n",
    "        - 'artist_name'\n",
    "    \"\"\"\n",
    "    try:\n",
    "        return dictionary[feature][uri]\n",
    "    except Exception as e:\n",
    "        return e"
   ]
  },
  {
   "cell_type": "code",
   "execution_count": 20,
   "id": "1b97ccc3-a596-4702-9581-594e714e2907",
   "metadata": {},
   "outputs": [
    {
     "data": {
      "text/plain": [
       "'Justin Bieber'"
      ]
     },
     "execution_count": 20,
     "metadata": {},
     "output_type": "execute_result"
    }
   ],
   "source": [
    "get_artist_feature('spotify:artist:1uNFoZAHBGtllmzznpCI3s')"
   ]
  },
  {
   "cell_type": "markdown",
   "id": "a97feb6f-6031-45a1-9e2f-7c70f2cd44f6",
   "metadata": {},
   "source": [
    "# Setting up word2vec"
   ]
  },
  {
   "cell_type": "markdown",
   "id": "3500c649-a8ae-46c5-8b6a-87becd218f67",
   "metadata": {},
   "source": [
    "## Test Playlist"
   ]
  },
  {
   "cell_type": "code",
   "execution_count": 57,
   "id": "2e7c7ecb-b706-494b-b486-1732af6de4de",
   "metadata": {},
   "outputs": [],
   "source": [
    "SEED = 42\n",
    "AUTOTUNE = tf.data.AUTOTUNE"
   ]
  },
  {
   "cell_type": "code",
   "execution_count": 34,
   "id": "5ff68619-2f30-453e-ad9e-3995c374aa5b",
   "metadata": {},
   "outputs": [
    {
     "data": {
      "text/plain": [
       "['track_1_uri',\n",
       " 'track_2_uri',\n",
       " 'track_3_uri',\n",
       " 'track_4_uri',\n",
       " 'track_5_uri',\n",
       " 'track_6_uri',\n",
       " 'track_7_uri',\n",
       " 'track_8_uri',\n",
       " 'track_9_uri',\n",
       " 'track_10_uri',\n",
       " 'track_11_uri',\n",
       " 'track_12_uri',\n",
       " 'track_13_uri',\n",
       " 'track_14_uri',\n",
       " 'track_15_uri']"
      ]
     },
     "execution_count": 34,
     "metadata": {},
     "output_type": "execute_result"
    }
   ],
   "source": [
    "# df = playlist_df.loc[:, playlist_df.columns.str.startswith('track_')]\n",
    "track_uri_cols = [col for col in playlist_df.columns\n",
    "                  if 'uri' in col\n",
    "                  and 'album' not in col\n",
    "                  and 'artist' not in col]\n",
    "track_uri_cols"
   ]
  },
  {
   "cell_type": "code",
   "execution_count": 37,
   "id": "e522ced0-adf5-4814-8b9b-4c6d70d20a97",
   "metadata": {},
   "outputs": [
    {
     "name": "stdout",
     "output_type": "stream",
     "text": [
      "(570806, 15)\n"
     ]
    },
    {
     "data": {
      "text/html": [
       "<div>\n",
       "<style scoped>\n",
       "    .dataframe tbody tr th:only-of-type {\n",
       "        vertical-align: middle;\n",
       "    }\n",
       "\n",
       "    .dataframe tbody tr th {\n",
       "        vertical-align: top;\n",
       "    }\n",
       "\n",
       "    .dataframe thead th {\n",
       "        text-align: right;\n",
       "    }\n",
       "</style>\n",
       "<table border=\"1\" class=\"dataframe\">\n",
       "  <thead>\n",
       "    <tr style=\"text-align: right;\">\n",
       "      <th></th>\n",
       "      <th>track_1_uri</th>\n",
       "      <th>track_2_uri</th>\n",
       "      <th>track_3_uri</th>\n",
       "      <th>track_4_uri</th>\n",
       "      <th>track_5_uri</th>\n",
       "      <th>track_6_uri</th>\n",
       "      <th>track_7_uri</th>\n",
       "      <th>track_8_uri</th>\n",
       "      <th>track_9_uri</th>\n",
       "      <th>track_10_uri</th>\n",
       "      <th>track_11_uri</th>\n",
       "      <th>track_12_uri</th>\n",
       "      <th>track_13_uri</th>\n",
       "      <th>track_14_uri</th>\n",
       "      <th>track_15_uri</th>\n",
       "    </tr>\n",
       "    <tr>\n",
       "      <th>pid</th>\n",
       "      <th></th>\n",
       "      <th></th>\n",
       "      <th></th>\n",
       "      <th></th>\n",
       "      <th></th>\n",
       "      <th></th>\n",
       "      <th></th>\n",
       "      <th></th>\n",
       "      <th></th>\n",
       "      <th></th>\n",
       "      <th></th>\n",
       "      <th></th>\n",
       "      <th></th>\n",
       "      <th></th>\n",
       "      <th></th>\n",
       "    </tr>\n",
       "  </thead>\n",
       "  <tbody>\n",
       "    <tr>\n",
       "      <th>434000</th>\n",
       "      <td>spotify:track:5JuA3wlm0kn7IHfbeHV0i6</td>\n",
       "      <td>spotify:track:5p79cffxQgsOSF7hraBV1M</td>\n",
       "      <td>spotify:track:32FJ75MXWMYWmmTw3NvKKy</td>\n",
       "      <td>spotify:track:0tV8pOpiNsKqUys0ilUcXz</td>\n",
       "      <td>spotify:track:3Th56VIq2sEaEmPPETu7p5</td>\n",
       "      <td>spotify:track:5lUbIsKvBfML00F1UNV1i2</td>\n",
       "      <td>spotify:track:6nIE1oCE4udqMGv3bqVNVb</td>\n",
       "      <td>spotify:track:4dvNIeJawEWqMe1ZfYKcXt</td>\n",
       "      <td>spotify:track:4tLBp1HnrrCvbJbeD4g0f3</td>\n",
       "      <td>spotify:track:3VXY8vQ3NJZ76iLtAg51QR</td>\n",
       "      <td>spotify:track:5uCax9HTNlzGybIStD3vDh</td>\n",
       "      <td>spotify:track:2iXBZ32Fz5VDCLeE0JIdX5</td>\n",
       "      <td>spotify:track:1aBO5KPwxqLESNTTJBR6VP</td>\n",
       "      <td>spotify:track:2iFvY1l5o2mmUAjBq1L9Mh</td>\n",
       "      <td>spotify:track:3yrVRdwCbEeKODZgG2mVZX</td>\n",
       "    </tr>\n",
       "    <tr>\n",
       "      <th>434001</th>\n",
       "      <td>spotify:track:6y6jbcPG4Yn3Du4moXaenr</td>\n",
       "      <td>spotify:track:6Nl5jjykRxa7salssZ0aER</td>\n",
       "      <td>spotify:track:4SYUUlkScpNR1QvPscXf8t</td>\n",
       "      <td>spotify:track:3xKsf9qdS1CyvXSMEid6g8</td>\n",
       "      <td>spotify:track:46Y1VsEbWAQ7dIZe1gpnve</td>\n",
       "      <td>spotify:track:0tICYNayWWhH9GPeFrfjfD</td>\n",
       "      <td>spotify:track:4djIFfof5TpbSGRZUpsTXq</td>\n",
       "      <td>spotify:track:1snNAXmmPXCn0dkF9DaPWw</td>\n",
       "      <td>spotify:track:5ho74ZlMvEbyhFutCd8SGg</td>\n",
       "      <td>spotify:track:2UAWCPSBKXi33Q0YMoDRRS</td>\n",
       "      <td>spotify:track:4dASQiO1Eoo3RJvt74FtXB</td>\n",
       "      <td>spotify:track:41on8RwRh22IHcChAN2gm8</td>\n",
       "      <td>spotify:track:7BHPGtpuuWWsvE7cCaMuEU</td>\n",
       "      <td>spotify:track:3ZOEytgrvLwQaqXreDs2Jx</td>\n",
       "      <td>spotify:track:5E30LdtzQTGqRvNd7l6kG5</td>\n",
       "    </tr>\n",
       "    <tr>\n",
       "      <th>434004</th>\n",
       "      <td>spotify:track:6JG0qhINKVwiHxqN85j7RG</td>\n",
       "      <td>spotify:track:1kMuU3TNQvHbqvXCWBodmP</td>\n",
       "      <td>spotify:track:0lwkTJnLBVWvEnxtku7Msy</td>\n",
       "      <td>spotify:track:5LME7YULt0enp6UAB8VoDn</td>\n",
       "      <td>spotify:track:1JFx9R87En9oJOi4DRH1e9</td>\n",
       "      <td>spotify:track:3UYhSPI2lVFfbnC6usruPj</td>\n",
       "      <td>spotify:track:0jx8zY5JQsS4YEQcfkoc5C</td>\n",
       "      <td>spotify:track:6TaqooOXAEcijL6G1AWS2K</td>\n",
       "      <td>spotify:track:0z5ZPs57J2KERwM1tBM2GF</td>\n",
       "      <td>spotify:track:25khomWgBVamSdKw7hzm3l</td>\n",
       "      <td>spotify:track:5yJ0kIxrrYra3QexH58UVj</td>\n",
       "      <td>spotify:track:6Ius4TC0L3cN74HT7ENE6e</td>\n",
       "      <td>spotify:track:1yYzuNd0KRyHVJ3NH8apBt</td>\n",
       "      <td>spotify:track:6GnhWMhgJb7uyiiPEiEkDA</td>\n",
       "      <td>spotify:track:0htTZnlk6okQ1HIq4EvFQ6</td>\n",
       "    </tr>\n",
       "    <tr>\n",
       "      <th>434005</th>\n",
       "      <td>spotify:track:2M4K2cYkZHN7OMJSZhPa5i</td>\n",
       "      <td>spotify:track:76S8gvsdaaH7obtBwXvVRL</td>\n",
       "      <td>spotify:track:7mZH0W1tFV2Hgl94ifGT0S</td>\n",
       "      <td>spotify:track:7uRTRMqtfXaOrbHqId0BSF</td>\n",
       "      <td>spotify:track:2uxnPcTJa2UExlj1LwYZp6</td>\n",
       "      <td>spotify:track:57nNNkgk768QVXq3uHxu5e</td>\n",
       "      <td>spotify:track:5CeWLQg987gjDTPF9jQptP</td>\n",
       "      <td>spotify:track:5IxS93bfuITJyNNkvkJ4q5</td>\n",
       "      <td>spotify:track:0mQnLhHH5WwRc5gtnzLtK6</td>\n",
       "      <td>spotify:track:66fVx0KicQduW94cDNM59V</td>\n",
       "      <td>spotify:track:66hayvUbTotekKU3H4ta1f</td>\n",
       "      <td>spotify:track:4WjH9Bzt3kx7z8kl0awxh4</td>\n",
       "      <td>spotify:track:5Hag6lqkkjgbzoyMEZO95y</td>\n",
       "      <td>spotify:track:4SuwafV4Ell3N4unnIzJSI</td>\n",
       "      <td>spotify:track:4XvKjZWIqsHvvza89lMTAH</td>\n",
       "    </tr>\n",
       "    <tr>\n",
       "      <th>434007</th>\n",
       "      <td>spotify:track:67RNKBsqRiyMOtor2RxfWR</td>\n",
       "      <td>spotify:track:2hqc4KkXhPVSuKNatapCmD</td>\n",
       "      <td>spotify:track:5VKELcHc3xqRq0tySxMVrB</td>\n",
       "      <td>spotify:track:7Eo1JOdPvYYZqveKzXh8pN</td>\n",
       "      <td>spotify:track:3KdOm1GJJWYDTQmIbRIkcL</td>\n",
       "      <td>spotify:track:5GgC8oLIpJjQ5FlshQvtv3</td>\n",
       "      <td>spotify:track:3ODSy5RSRPmo9WbuVYuWZx</td>\n",
       "      <td>spotify:track:0cMIrWqljfkcl99TIYTtqf</td>\n",
       "      <td>spotify:track:0zYYWBqEFWrQjg48Nmf71B</td>\n",
       "      <td>spotify:track:3CNdjIf1JnMwOrn2Gggbyf</td>\n",
       "      <td>spotify:track:1bYd8H3uOQA1Er17QN1V6B</td>\n",
       "      <td>spotify:track:4x85BXuxs7vAPZqJ2pRDvc</td>\n",
       "      <td>spotify:track:23H9bXxwd5L4CdTrvU7SYl</td>\n",
       "      <td>spotify:track:3JxCHQHvao3OO5x7gGiral</td>\n",
       "      <td>spotify:track:1yOLrH7nF0R7MWDuuva6va</td>\n",
       "    </tr>\n",
       "  </tbody>\n",
       "</table>\n",
       "</div>"
      ],
      "text/plain": [
       "                                 track_1_uri  \\\n",
       "pid                                            \n",
       "434000  spotify:track:5JuA3wlm0kn7IHfbeHV0i6   \n",
       "434001  spotify:track:6y6jbcPG4Yn3Du4moXaenr   \n",
       "434004  spotify:track:6JG0qhINKVwiHxqN85j7RG   \n",
       "434005  spotify:track:2M4K2cYkZHN7OMJSZhPa5i   \n",
       "434007  spotify:track:67RNKBsqRiyMOtor2RxfWR   \n",
       "\n",
       "                                 track_2_uri  \\\n",
       "pid                                            \n",
       "434000  spotify:track:5p79cffxQgsOSF7hraBV1M   \n",
       "434001  spotify:track:6Nl5jjykRxa7salssZ0aER   \n",
       "434004  spotify:track:1kMuU3TNQvHbqvXCWBodmP   \n",
       "434005  spotify:track:76S8gvsdaaH7obtBwXvVRL   \n",
       "434007  spotify:track:2hqc4KkXhPVSuKNatapCmD   \n",
       "\n",
       "                                 track_3_uri  \\\n",
       "pid                                            \n",
       "434000  spotify:track:32FJ75MXWMYWmmTw3NvKKy   \n",
       "434001  spotify:track:4SYUUlkScpNR1QvPscXf8t   \n",
       "434004  spotify:track:0lwkTJnLBVWvEnxtku7Msy   \n",
       "434005  spotify:track:7mZH0W1tFV2Hgl94ifGT0S   \n",
       "434007  spotify:track:5VKELcHc3xqRq0tySxMVrB   \n",
       "\n",
       "                                 track_4_uri  \\\n",
       "pid                                            \n",
       "434000  spotify:track:0tV8pOpiNsKqUys0ilUcXz   \n",
       "434001  spotify:track:3xKsf9qdS1CyvXSMEid6g8   \n",
       "434004  spotify:track:5LME7YULt0enp6UAB8VoDn   \n",
       "434005  spotify:track:7uRTRMqtfXaOrbHqId0BSF   \n",
       "434007  spotify:track:7Eo1JOdPvYYZqveKzXh8pN   \n",
       "\n",
       "                                 track_5_uri  \\\n",
       "pid                                            \n",
       "434000  spotify:track:3Th56VIq2sEaEmPPETu7p5   \n",
       "434001  spotify:track:46Y1VsEbWAQ7dIZe1gpnve   \n",
       "434004  spotify:track:1JFx9R87En9oJOi4DRH1e9   \n",
       "434005  spotify:track:2uxnPcTJa2UExlj1LwYZp6   \n",
       "434007  spotify:track:3KdOm1GJJWYDTQmIbRIkcL   \n",
       "\n",
       "                                 track_6_uri  \\\n",
       "pid                                            \n",
       "434000  spotify:track:5lUbIsKvBfML00F1UNV1i2   \n",
       "434001  spotify:track:0tICYNayWWhH9GPeFrfjfD   \n",
       "434004  spotify:track:3UYhSPI2lVFfbnC6usruPj   \n",
       "434005  spotify:track:57nNNkgk768QVXq3uHxu5e   \n",
       "434007  spotify:track:5GgC8oLIpJjQ5FlshQvtv3   \n",
       "\n",
       "                                 track_7_uri  \\\n",
       "pid                                            \n",
       "434000  spotify:track:6nIE1oCE4udqMGv3bqVNVb   \n",
       "434001  spotify:track:4djIFfof5TpbSGRZUpsTXq   \n",
       "434004  spotify:track:0jx8zY5JQsS4YEQcfkoc5C   \n",
       "434005  spotify:track:5CeWLQg987gjDTPF9jQptP   \n",
       "434007  spotify:track:3ODSy5RSRPmo9WbuVYuWZx   \n",
       "\n",
       "                                 track_8_uri  \\\n",
       "pid                                            \n",
       "434000  spotify:track:4dvNIeJawEWqMe1ZfYKcXt   \n",
       "434001  spotify:track:1snNAXmmPXCn0dkF9DaPWw   \n",
       "434004  spotify:track:6TaqooOXAEcijL6G1AWS2K   \n",
       "434005  spotify:track:5IxS93bfuITJyNNkvkJ4q5   \n",
       "434007  spotify:track:0cMIrWqljfkcl99TIYTtqf   \n",
       "\n",
       "                                 track_9_uri  \\\n",
       "pid                                            \n",
       "434000  spotify:track:4tLBp1HnrrCvbJbeD4g0f3   \n",
       "434001  spotify:track:5ho74ZlMvEbyhFutCd8SGg   \n",
       "434004  spotify:track:0z5ZPs57J2KERwM1tBM2GF   \n",
       "434005  spotify:track:0mQnLhHH5WwRc5gtnzLtK6   \n",
       "434007  spotify:track:0zYYWBqEFWrQjg48Nmf71B   \n",
       "\n",
       "                                track_10_uri  \\\n",
       "pid                                            \n",
       "434000  spotify:track:3VXY8vQ3NJZ76iLtAg51QR   \n",
       "434001  spotify:track:2UAWCPSBKXi33Q0YMoDRRS   \n",
       "434004  spotify:track:25khomWgBVamSdKw7hzm3l   \n",
       "434005  spotify:track:66fVx0KicQduW94cDNM59V   \n",
       "434007  spotify:track:3CNdjIf1JnMwOrn2Gggbyf   \n",
       "\n",
       "                                track_11_uri  \\\n",
       "pid                                            \n",
       "434000  spotify:track:5uCax9HTNlzGybIStD3vDh   \n",
       "434001  spotify:track:4dASQiO1Eoo3RJvt74FtXB   \n",
       "434004  spotify:track:5yJ0kIxrrYra3QexH58UVj   \n",
       "434005  spotify:track:66hayvUbTotekKU3H4ta1f   \n",
       "434007  spotify:track:1bYd8H3uOQA1Er17QN1V6B   \n",
       "\n",
       "                                track_12_uri  \\\n",
       "pid                                            \n",
       "434000  spotify:track:2iXBZ32Fz5VDCLeE0JIdX5   \n",
       "434001  spotify:track:41on8RwRh22IHcChAN2gm8   \n",
       "434004  spotify:track:6Ius4TC0L3cN74HT7ENE6e   \n",
       "434005  spotify:track:4WjH9Bzt3kx7z8kl0awxh4   \n",
       "434007  spotify:track:4x85BXuxs7vAPZqJ2pRDvc   \n",
       "\n",
       "                                track_13_uri  \\\n",
       "pid                                            \n",
       "434000  spotify:track:1aBO5KPwxqLESNTTJBR6VP   \n",
       "434001  spotify:track:7BHPGtpuuWWsvE7cCaMuEU   \n",
       "434004  spotify:track:1yYzuNd0KRyHVJ3NH8apBt   \n",
       "434005  spotify:track:5Hag6lqkkjgbzoyMEZO95y   \n",
       "434007  spotify:track:23H9bXxwd5L4CdTrvU7SYl   \n",
       "\n",
       "                                track_14_uri  \\\n",
       "pid                                            \n",
       "434000  spotify:track:2iFvY1l5o2mmUAjBq1L9Mh   \n",
       "434001  spotify:track:3ZOEytgrvLwQaqXreDs2Jx   \n",
       "434004  spotify:track:6GnhWMhgJb7uyiiPEiEkDA   \n",
       "434005  spotify:track:4SuwafV4Ell3N4unnIzJSI   \n",
       "434007  spotify:track:3JxCHQHvao3OO5x7gGiral   \n",
       "\n",
       "                                track_15_uri  \n",
       "pid                                           \n",
       "434000  spotify:track:3yrVRdwCbEeKODZgG2mVZX  \n",
       "434001  spotify:track:5E30LdtzQTGqRvNd7l6kG5  \n",
       "434004  spotify:track:0htTZnlk6okQ1HIq4EvFQ6  \n",
       "434005  spotify:track:4XvKjZWIqsHvvza89lMTAH  \n",
       "434007  spotify:track:1yOLrH7nF0R7MWDuuva6va  "
      ]
     },
     "execution_count": 37,
     "metadata": {},
     "output_type": "execute_result"
    }
   ],
   "source": [
    "track_uri_df = playlist_df[track_uri_cols]\n",
    "print(track_uri_df.shape)\n",
    "track_uri_df.head()"
   ]
  },
  {
   "cell_type": "code",
   "execution_count": 42,
   "id": "879f3bf2-2c96-4340-b1eb-38131f32cde7",
   "metadata": {},
   "outputs": [
    {
     "data": {
      "text/plain": [
       "['spotify:track:5JuA3wlm0kn7IHfbeHV0i6',\n",
       " 'spotify:track:5p79cffxQgsOSF7hraBV1M',\n",
       " 'spotify:track:32FJ75MXWMYWmmTw3NvKKy',\n",
       " 'spotify:track:0tV8pOpiNsKqUys0ilUcXz',\n",
       " 'spotify:track:3Th56VIq2sEaEmPPETu7p5',\n",
       " 'spotify:track:5lUbIsKvBfML00F1UNV1i2',\n",
       " 'spotify:track:6nIE1oCE4udqMGv3bqVNVb',\n",
       " 'spotify:track:4dvNIeJawEWqMe1ZfYKcXt',\n",
       " 'spotify:track:4tLBp1HnrrCvbJbeD4g0f3',\n",
       " 'spotify:track:3VXY8vQ3NJZ76iLtAg51QR',\n",
       " 'spotify:track:5uCax9HTNlzGybIStD3vDh',\n",
       " 'spotify:track:2iXBZ32Fz5VDCLeE0JIdX5',\n",
       " 'spotify:track:1aBO5KPwxqLESNTTJBR6VP',\n",
       " 'spotify:track:2iFvY1l5o2mmUAjBq1L9Mh',\n",
       " 'spotify:track:3yrVRdwCbEeKODZgG2mVZX']"
      ]
     },
     "execution_count": 42,
     "metadata": {},
     "output_type": "execute_result"
    }
   ],
   "source": [
    "test_playlist = track_uri_df.loc[434000]\n",
    "test_playlist.tolist()"
   ]
  },
  {
   "cell_type": "code",
   "execution_count": 46,
   "id": "c2740e82-7882-494e-951d-fc4043bb1983",
   "metadata": {},
   "outputs": [
    {
     "name": "stdout",
     "output_type": "stream",
     "text": [
      "{'<pad>': 0, 'spotify:track:5JuA3wlm0kn7IHfbeHV0i6': 1, 'spotify:track:5p79cffxQgsOSF7hraBV1M': 2, 'spotify:track:32FJ75MXWMYWmmTw3NvKKy': 3, 'spotify:track:0tV8pOpiNsKqUys0ilUcXz': 4, 'spotify:track:3Th56VIq2sEaEmPPETu7p5': 5, 'spotify:track:5lUbIsKvBfML00F1UNV1i2': 6, 'spotify:track:6nIE1oCE4udqMGv3bqVNVb': 7, 'spotify:track:4dvNIeJawEWqMe1ZfYKcXt': 8, 'spotify:track:4tLBp1HnrrCvbJbeD4g0f3': 9, 'spotify:track:3VXY8vQ3NJZ76iLtAg51QR': 10, 'spotify:track:5uCax9HTNlzGybIStD3vDh': 11, 'spotify:track:2iXBZ32Fz5VDCLeE0JIdX5': 12, 'spotify:track:1aBO5KPwxqLESNTTJBR6VP': 13, 'spotify:track:2iFvY1l5o2mmUAjBq1L9Mh': 14, 'spotify:track:3yrVRdwCbEeKODZgG2mVZX': 15}\n"
     ]
    }
   ],
   "source": [
    "vocab, index = {}, 1  # start indexing from 1\n",
    "vocab['<pad>'] = 0  # add a padding token\n",
    "for token in test_playlist:\n",
    "    if token not in vocab:\n",
    "        vocab[token] = index\n",
    "        index += 1\n",
    "vocab_size = len(vocab)\n",
    "print(vocab)"
   ]
  },
  {
   "cell_type": "code",
   "execution_count": 47,
   "id": "cc047218-b6be-4252-9edb-6d1353504bc5",
   "metadata": {},
   "outputs": [
    {
     "name": "stdout",
     "output_type": "stream",
     "text": [
      "{0: '<pad>', 1: 'spotify:track:5JuA3wlm0kn7IHfbeHV0i6', 2: 'spotify:track:5p79cffxQgsOSF7hraBV1M', 3: 'spotify:track:32FJ75MXWMYWmmTw3NvKKy', 4: 'spotify:track:0tV8pOpiNsKqUys0ilUcXz', 5: 'spotify:track:3Th56VIq2sEaEmPPETu7p5', 6: 'spotify:track:5lUbIsKvBfML00F1UNV1i2', 7: 'spotify:track:6nIE1oCE4udqMGv3bqVNVb', 8: 'spotify:track:4dvNIeJawEWqMe1ZfYKcXt', 9: 'spotify:track:4tLBp1HnrrCvbJbeD4g0f3', 10: 'spotify:track:3VXY8vQ3NJZ76iLtAg51QR', 11: 'spotify:track:5uCax9HTNlzGybIStD3vDh', 12: 'spotify:track:2iXBZ32Fz5VDCLeE0JIdX5', 13: 'spotify:track:1aBO5KPwxqLESNTTJBR6VP', 14: 'spotify:track:2iFvY1l5o2mmUAjBq1L9Mh', 15: 'spotify:track:3yrVRdwCbEeKODZgG2mVZX'}\n"
     ]
    }
   ],
   "source": [
    "inverse_vocab = {index: token for token, index in vocab.items()}\n",
    "print(inverse_vocab)"
   ]
  },
  {
   "cell_type": "code",
   "execution_count": 48,
   "id": "670d3c90-b783-4b9e-b1d5-3537fa4f2b3c",
   "metadata": {},
   "outputs": [
    {
     "name": "stdout",
     "output_type": "stream",
     "text": [
      "[1, 2, 3, 4, 5, 6, 7, 8, 9, 10, 11, 12, 13, 14, 15]\n"
     ]
    }
   ],
   "source": [
    "example_sequence = [vocab[word] for word in test_playlist]\n",
    "print(example_sequence)"
   ]
  },
  {
   "cell_type": "code",
   "execution_count": 51,
   "id": "e726e0c4-ccd1-422c-a0c7-ac08f2b5b179",
   "metadata": {},
   "outputs": [
    {
     "name": "stdout",
     "output_type": "stream",
     "text": [
      "54\n"
     ]
    }
   ],
   "source": [
    "window_size = 2\n",
    "positive_skip_grams, _ = tf.keras.preprocessing.sequence.skipgrams(\n",
    "      example_sequence,\n",
    "      vocabulary_size=vocab_size,\n",
    "      window_size=window_size,\n",
    "      negative_samples=0)\n",
    "print(len(positive_skip_grams))"
   ]
  },
  {
   "cell_type": "code",
   "execution_count": 54,
   "id": "bcc1b62f-8687-494e-b23f-a8dd9a6b9089",
   "metadata": {},
   "outputs": [
    {
     "name": "stdout",
     "output_type": "stream",
     "text": [
      "(6, 7): (Almost Lover, Half a Heart)\n",
      "(12, 13): (Better in Time, Thank You for the Broken Heart)\n",
      "(5, 6): (All Of The Stars, Almost Lover)\n",
      "(15, 13): (Dead Hearts, Thank You for the Broken Heart)\n",
      "(5, 3): (All Of The Stars, Start Again)\n"
     ]
    }
   ],
   "source": [
    "for target, context in positive_skip_grams[:5]:\n",
    "    print(f\"({target}, {context}): ({get_track_feature(inverse_vocab[target])}, {get_track_feature(inverse_vocab[context])})\")"
   ]
  },
  {
   "cell_type": "code",
   "execution_count": 59,
   "id": "9494d9ce-cd58-4df1-9466-de70ff2885ad",
   "metadata": {},
   "outputs": [
    {
     "name": "stdout",
     "output_type": "stream",
     "text": [
      "tf.Tensor([0 1 3 2], shape=(4,), dtype=int64)\n",
      "['<pad>', 'spotify:track:5JuA3wlm0kn7IHfbeHV0i6', 'spotify:track:32FJ75MXWMYWmmTw3NvKKy', 'spotify:track:5p79cffxQgsOSF7hraBV1M']\n"
     ]
    }
   ],
   "source": [
    "# Get target and context words for one positive skip-gram.\n",
    "target_word, context_word = positive_skip_grams[0]\n",
    "\n",
    "# Set the number of negative samples per positive context.\n",
    "num_ns = 4\n",
    "\n",
    "context_class = tf.reshape(tf.constant(context_word, dtype=\"int64\"), (1, 1))\n",
    "negative_sampling_candidates, _, _ = tf.random.log_uniform_candidate_sampler(\n",
    "    true_classes=context_class,  # class that should be sampled as 'positive'\n",
    "    num_true=1,  # each positive skip-gram has 1 positive context class\n",
    "    num_sampled=num_ns,  # number of negative context words to sample\n",
    "    unique=True,  # all the negative samples should be unique\n",
    "    range_max=vocab_size,  # pick index of the samples from [0, vocab_size]\n",
    "    seed=SEED,  # seed for reproducibility\n",
    "    name=\"negative_sampling\"  # name of this operation\n",
    ")\n",
    "print(negative_sampling_candidates)\n",
    "print([inverse_vocab[index.numpy()] for index in negative_sampling_candidates])"
   ]
  },
  {
   "cell_type": "code",
   "execution_count": 60,
   "id": "e1e0e451-48dc-46d5-8263-4b0a83214f5e",
   "metadata": {},
   "outputs": [],
   "source": [
    "# Add a dimension so you can use concatenation (in the next step).\n",
    "negative_sampling_candidates = tf.expand_dims(negative_sampling_candidates, 1)\n",
    "\n",
    "# Concatenate a positive context word with negative sampled words.\n",
    "context = tf.concat([context_class, negative_sampling_candidates], 0)\n",
    "\n",
    "# Label the first context word as `1` (positive) followed by `num_ns` `0`s (negative).\n",
    "label = tf.constant([1] + [0]*num_ns, dtype=\"int64\")\n",
    "\n",
    "# Reshape the target to shape `(1,)` and context and label to `(num_ns+1,)`.\n",
    "target = tf.squeeze(target_word)\n",
    "context = tf.squeeze(context)\n",
    "label = tf.squeeze(label)"
   ]
  },
  {
   "cell_type": "code",
   "execution_count": 64,
   "id": "f332e97c-05f4-4789-a4bb-d391f53084e4",
   "metadata": {},
   "outputs": [
    {
     "name": "stdout",
     "output_type": "stream",
     "text": [
      "target_index    : 6\n",
      "target_word     : Almost Lover\n",
      "context_indices : [7 0 1 3 2]\n",
      "context_words   : ['Half a Heart', KeyError('<pad>'), 'All I Want', 'Start Again', 'Sad']\n",
      "label           : [1 0 0 0 0]\n"
     ]
    }
   ],
   "source": [
    "print(f\"target_index    : {target}\")\n",
    "print(f\"target_word     : {get_track_feature(inverse_vocab[target_word])}\")\n",
    "print(f\"context_indices : {context}\")\n",
    "print(f\"context_words   : {[get_track_feature(inverse_vocab[c.numpy()]) for c in context]}\")\n",
    "print(f\"label           : {label}\")"
   ]
  },
  {
   "cell_type": "markdown",
   "id": "78783364-624d-448c-aa68-509b9c5d20c9",
   "metadata": {},
   "source": [
    "___\n",
    "## For Real This Time"
   ]
  },
  {
   "cell_type": "code",
   "execution_count": 68,
   "id": "8274ad30-e6f0-45bd-a38a-5a6c0b5c9275",
   "metadata": {},
   "outputs": [
    {
     "name": "stdout",
     "output_type": "stream",
     "text": [
      "[0.00315225 0.00315225 0.00547597 0.00741556 0.00912817 0.01068435\n",
      " 0.01212381 0.01347162 0.01474487 0.0159558 ]\n"
     ]
    }
   ],
   "source": [
    "sampling_table = tf.keras.preprocessing.sequence.make_sampling_table(size=10)\n",
    "print(sampling_table)"
   ]
  },
  {
   "cell_type": "code",
   "execution_count": 69,
   "id": "9d05d065-7939-4409-b161-48d55b411e13",
   "metadata": {},
   "outputs": [],
   "source": [
    "# Generates skip-gram pairs with negative sampling for a list of sequences\n",
    "# (int-encoded sentences) based on window size, number of negative samples\n",
    "# and vocabulary size.\n",
    "def generate_training_data(sequences, window_size, num_ns, vocab_size, seed):\n",
    "  # Elements of each training example are appended to these lists.\n",
    "  targets, contexts, labels = [], [], []\n",
    "\n",
    "  # Build the sampling table for `vocab_size` tokens.\n",
    "  sampling_table = tf.keras.preprocessing.sequence.make_sampling_table(vocab_size)\n",
    "\n",
    "  # Iterate over all sequences (playlists) in the dataset.\n",
    "  for sequence in tqdm.tqdm(sequences):\n",
    "\n",
    "    # Generate positive skip-gram pairs for a sequence (playlist).\n",
    "    positive_skip_grams, _ = tf.keras.preprocessing.sequence.skipgrams(\n",
    "          sequence,\n",
    "          vocabulary_size=vocab_size,\n",
    "          sampling_table=sampling_table,\n",
    "          window_size=window_size,\n",
    "          negative_samples=0)\n",
    "\n",
    "    # Iterate over each positive skip-gram pair to produce training examples\n",
    "    # with a positive context word and negative samples.\n",
    "    for target_word, context_word in positive_skip_grams:\n",
    "      context_class = tf.expand_dims(\n",
    "          tf.constant([context_word], dtype=\"int64\"), 1)\n",
    "    \n",
    "      negative_sampling_candidates, _, _ = tf.random.log_uniform_candidate_sampler(\n",
    "          true_classes=context_class,\n",
    "          num_true=1,\n",
    "          num_sampled=num_ns,\n",
    "          unique=True,\n",
    "          range_max=vocab_size,\n",
    "          seed=SEED,\n",
    "          name=\"negative_sampling\")\n",
    "\n",
    "      # Build context and label vectors (for one target word)\n",
    "      negative_sampling_candidates = tf.expand_dims(\n",
    "          negative_sampling_candidates, 1)\n",
    "\n",
    "      context = tf.concat([context_class, negative_sampling_candidates], 0)\n",
    "      label = tf.constant([1] + [0]*num_ns, dtype=\"int64\")\n",
    "\n",
    "      # Append each element from the training example to global lists.\n",
    "      targets.append(target_word)\n",
    "      contexts.append(context)\n",
    "      labels.append(label)\n",
    "\n",
    "  return targets, contexts, labels"
   ]
  },
  {
   "cell_type": "code",
   "execution_count": 72,
   "id": "b6de3193-5fc2-43f3-8f6e-08aa42d41209",
   "metadata": {},
   "outputs": [
    {
     "data": {
      "text/plain": [
       "645802"
      ]
     },
     "execution_count": 72,
     "metadata": {},
     "output_type": "execute_result"
    }
   ],
   "source": [
    "vocab_size = track_df.shape[0]\n",
    "vocab_size"
   ]
  },
  {
   "cell_type": "code",
   "execution_count": 81,
   "id": "a7d262e1-067d-43b3-ba2f-d585358f2d01",
   "metadata": {},
   "outputs": [
    {
     "data": {
      "text/plain": [
       "['spotify:track:6SbAbLqAWf2tnTdUy6Gmm5',\n",
       " 'spotify:track:1MvpPH6BTP3IrLnTjEA2gw',\n",
       " 'spotify:track:5rgy6ghBq1eRApCkeUdJXf',\n",
       " 'spotify:track:07dYGGSrzPeg6a3KZjWX65',\n",
       " 'spotify:track:1NpW5kyvO4XrNJ3rnfcNy3']"
      ]
     },
     "execution_count": 81,
     "metadata": {},
     "output_type": "execute_result"
    }
   ],
   "source": [
    "all_track_uris = list(track_df.index)\n",
    "all_track_uris[:5]"
   ]
  },
  {
   "cell_type": "code",
   "execution_count": 77,
   "id": "15e6b338-148f-4f21-aab3-2ce2dc08ec2b",
   "metadata": {},
   "outputs": [],
   "source": [
    "# Use StringLookup layer to translate URI strings into integer outputs\n",
    "# via a table-based vocab lookup\n",
    "vectorize_layer = tf.keras.layers.experimental.preprocessing.StringLookup(\n",
    "    max_tokens=vocab_size\n",
    ")"
   ]
  },
  {
   "cell_type": "code",
   "execution_count": 89,
   "id": "32c28b43-597d-4c9a-a6d8-6849446a7167",
   "metadata": {},
   "outputs": [
    {
     "data": {
      "text/html": [
       "<div>\n",
       "<style scoped>\n",
       "    .dataframe tbody tr th:only-of-type {\n",
       "        vertical-align: middle;\n",
       "    }\n",
       "\n",
       "    .dataframe tbody tr th {\n",
       "        vertical-align: top;\n",
       "    }\n",
       "\n",
       "    .dataframe thead th {\n",
       "        text-align: right;\n",
       "    }\n",
       "</style>\n",
       "<table border=\"1\" class=\"dataframe\">\n",
       "  <thead>\n",
       "    <tr style=\"text-align: right;\">\n",
       "      <th></th>\n",
       "      <th>track_1_uri</th>\n",
       "      <th>track_2_uri</th>\n",
       "      <th>track_3_uri</th>\n",
       "      <th>track_4_uri</th>\n",
       "      <th>track_5_uri</th>\n",
       "      <th>track_6_uri</th>\n",
       "      <th>track_7_uri</th>\n",
       "      <th>track_8_uri</th>\n",
       "      <th>track_9_uri</th>\n",
       "      <th>track_10_uri</th>\n",
       "      <th>track_11_uri</th>\n",
       "      <th>track_12_uri</th>\n",
       "      <th>track_13_uri</th>\n",
       "      <th>track_14_uri</th>\n",
       "      <th>track_15_uri</th>\n",
       "    </tr>\n",
       "  </thead>\n",
       "  <tbody>\n",
       "    <tr>\n",
       "      <th>0</th>\n",
       "      <td>spotify:track:5JuA3wlm0kn7IHfbeHV0i6</td>\n",
       "      <td>spotify:track:5p79cffxQgsOSF7hraBV1M</td>\n",
       "      <td>spotify:track:32FJ75MXWMYWmmTw3NvKKy</td>\n",
       "      <td>spotify:track:0tV8pOpiNsKqUys0ilUcXz</td>\n",
       "      <td>spotify:track:3Th56VIq2sEaEmPPETu7p5</td>\n",
       "      <td>spotify:track:5lUbIsKvBfML00F1UNV1i2</td>\n",
       "      <td>spotify:track:6nIE1oCE4udqMGv3bqVNVb</td>\n",
       "      <td>spotify:track:4dvNIeJawEWqMe1ZfYKcXt</td>\n",
       "      <td>spotify:track:4tLBp1HnrrCvbJbeD4g0f3</td>\n",
       "      <td>spotify:track:3VXY8vQ3NJZ76iLtAg51QR</td>\n",
       "      <td>spotify:track:5uCax9HTNlzGybIStD3vDh</td>\n",
       "      <td>spotify:track:2iXBZ32Fz5VDCLeE0JIdX5</td>\n",
       "      <td>spotify:track:1aBO5KPwxqLESNTTJBR6VP</td>\n",
       "      <td>spotify:track:2iFvY1l5o2mmUAjBq1L9Mh</td>\n",
       "      <td>spotify:track:3yrVRdwCbEeKODZgG2mVZX</td>\n",
       "    </tr>\n",
       "    <tr>\n",
       "      <th>1</th>\n",
       "      <td>spotify:track:6y6jbcPG4Yn3Du4moXaenr</td>\n",
       "      <td>spotify:track:6Nl5jjykRxa7salssZ0aER</td>\n",
       "      <td>spotify:track:4SYUUlkScpNR1QvPscXf8t</td>\n",
       "      <td>spotify:track:3xKsf9qdS1CyvXSMEid6g8</td>\n",
       "      <td>spotify:track:46Y1VsEbWAQ7dIZe1gpnve</td>\n",
       "      <td>spotify:track:0tICYNayWWhH9GPeFrfjfD</td>\n",
       "      <td>spotify:track:4djIFfof5TpbSGRZUpsTXq</td>\n",
       "      <td>spotify:track:1snNAXmmPXCn0dkF9DaPWw</td>\n",
       "      <td>spotify:track:5ho74ZlMvEbyhFutCd8SGg</td>\n",
       "      <td>spotify:track:2UAWCPSBKXi33Q0YMoDRRS</td>\n",
       "      <td>spotify:track:4dASQiO1Eoo3RJvt74FtXB</td>\n",
       "      <td>spotify:track:41on8RwRh22IHcChAN2gm8</td>\n",
       "      <td>spotify:track:7BHPGtpuuWWsvE7cCaMuEU</td>\n",
       "      <td>spotify:track:3ZOEytgrvLwQaqXreDs2Jx</td>\n",
       "      <td>spotify:track:5E30LdtzQTGqRvNd7l6kG5</td>\n",
       "    </tr>\n",
       "    <tr>\n",
       "      <th>2</th>\n",
       "      <td>spotify:track:6JG0qhINKVwiHxqN85j7RG</td>\n",
       "      <td>spotify:track:1kMuU3TNQvHbqvXCWBodmP</td>\n",
       "      <td>spotify:track:0lwkTJnLBVWvEnxtku7Msy</td>\n",
       "      <td>spotify:track:5LME7YULt0enp6UAB8VoDn</td>\n",
       "      <td>spotify:track:1JFx9R87En9oJOi4DRH1e9</td>\n",
       "      <td>spotify:track:3UYhSPI2lVFfbnC6usruPj</td>\n",
       "      <td>spotify:track:0jx8zY5JQsS4YEQcfkoc5C</td>\n",
       "      <td>spotify:track:6TaqooOXAEcijL6G1AWS2K</td>\n",
       "      <td>spotify:track:0z5ZPs57J2KERwM1tBM2GF</td>\n",
       "      <td>spotify:track:25khomWgBVamSdKw7hzm3l</td>\n",
       "      <td>spotify:track:5yJ0kIxrrYra3QexH58UVj</td>\n",
       "      <td>spotify:track:6Ius4TC0L3cN74HT7ENE6e</td>\n",
       "      <td>spotify:track:1yYzuNd0KRyHVJ3NH8apBt</td>\n",
       "      <td>spotify:track:6GnhWMhgJb7uyiiPEiEkDA</td>\n",
       "      <td>spotify:track:0htTZnlk6okQ1HIq4EvFQ6</td>\n",
       "    </tr>\n",
       "    <tr>\n",
       "      <th>3</th>\n",
       "      <td>spotify:track:2M4K2cYkZHN7OMJSZhPa5i</td>\n",
       "      <td>spotify:track:76S8gvsdaaH7obtBwXvVRL</td>\n",
       "      <td>spotify:track:7mZH0W1tFV2Hgl94ifGT0S</td>\n",
       "      <td>spotify:track:7uRTRMqtfXaOrbHqId0BSF</td>\n",
       "      <td>spotify:track:2uxnPcTJa2UExlj1LwYZp6</td>\n",
       "      <td>spotify:track:57nNNkgk768QVXq3uHxu5e</td>\n",
       "      <td>spotify:track:5CeWLQg987gjDTPF9jQptP</td>\n",
       "      <td>spotify:track:5IxS93bfuITJyNNkvkJ4q5</td>\n",
       "      <td>spotify:track:0mQnLhHH5WwRc5gtnzLtK6</td>\n",
       "      <td>spotify:track:66fVx0KicQduW94cDNM59V</td>\n",
       "      <td>spotify:track:66hayvUbTotekKU3H4ta1f</td>\n",
       "      <td>spotify:track:4WjH9Bzt3kx7z8kl0awxh4</td>\n",
       "      <td>spotify:track:5Hag6lqkkjgbzoyMEZO95y</td>\n",
       "      <td>spotify:track:4SuwafV4Ell3N4unnIzJSI</td>\n",
       "      <td>spotify:track:4XvKjZWIqsHvvza89lMTAH</td>\n",
       "    </tr>\n",
       "    <tr>\n",
       "      <th>4</th>\n",
       "      <td>spotify:track:67RNKBsqRiyMOtor2RxfWR</td>\n",
       "      <td>spotify:track:2hqc4KkXhPVSuKNatapCmD</td>\n",
       "      <td>spotify:track:5VKELcHc3xqRq0tySxMVrB</td>\n",
       "      <td>spotify:track:7Eo1JOdPvYYZqveKzXh8pN</td>\n",
       "      <td>spotify:track:3KdOm1GJJWYDTQmIbRIkcL</td>\n",
       "      <td>spotify:track:5GgC8oLIpJjQ5FlshQvtv3</td>\n",
       "      <td>spotify:track:3ODSy5RSRPmo9WbuVYuWZx</td>\n",
       "      <td>spotify:track:0cMIrWqljfkcl99TIYTtqf</td>\n",
       "      <td>spotify:track:0zYYWBqEFWrQjg48Nmf71B</td>\n",
       "      <td>spotify:track:3CNdjIf1JnMwOrn2Gggbyf</td>\n",
       "      <td>spotify:track:1bYd8H3uOQA1Er17QN1V6B</td>\n",
       "      <td>spotify:track:4x85BXuxs7vAPZqJ2pRDvc</td>\n",
       "      <td>spotify:track:23H9bXxwd5L4CdTrvU7SYl</td>\n",
       "      <td>spotify:track:3JxCHQHvao3OO5x7gGiral</td>\n",
       "      <td>spotify:track:1yOLrH7nF0R7MWDuuva6va</td>\n",
       "    </tr>\n",
       "  </tbody>\n",
       "</table>\n",
       "</div>"
      ],
      "text/plain": [
       "                            track_1_uri                           track_2_uri  \\\n",
       "0  spotify:track:5JuA3wlm0kn7IHfbeHV0i6  spotify:track:5p79cffxQgsOSF7hraBV1M   \n",
       "1  spotify:track:6y6jbcPG4Yn3Du4moXaenr  spotify:track:6Nl5jjykRxa7salssZ0aER   \n",
       "2  spotify:track:6JG0qhINKVwiHxqN85j7RG  spotify:track:1kMuU3TNQvHbqvXCWBodmP   \n",
       "3  spotify:track:2M4K2cYkZHN7OMJSZhPa5i  spotify:track:76S8gvsdaaH7obtBwXvVRL   \n",
       "4  spotify:track:67RNKBsqRiyMOtor2RxfWR  spotify:track:2hqc4KkXhPVSuKNatapCmD   \n",
       "\n",
       "                            track_3_uri                           track_4_uri  \\\n",
       "0  spotify:track:32FJ75MXWMYWmmTw3NvKKy  spotify:track:0tV8pOpiNsKqUys0ilUcXz   \n",
       "1  spotify:track:4SYUUlkScpNR1QvPscXf8t  spotify:track:3xKsf9qdS1CyvXSMEid6g8   \n",
       "2  spotify:track:0lwkTJnLBVWvEnxtku7Msy  spotify:track:5LME7YULt0enp6UAB8VoDn   \n",
       "3  spotify:track:7mZH0W1tFV2Hgl94ifGT0S  spotify:track:7uRTRMqtfXaOrbHqId0BSF   \n",
       "4  spotify:track:5VKELcHc3xqRq0tySxMVrB  spotify:track:7Eo1JOdPvYYZqveKzXh8pN   \n",
       "\n",
       "                            track_5_uri                           track_6_uri  \\\n",
       "0  spotify:track:3Th56VIq2sEaEmPPETu7p5  spotify:track:5lUbIsKvBfML00F1UNV1i2   \n",
       "1  spotify:track:46Y1VsEbWAQ7dIZe1gpnve  spotify:track:0tICYNayWWhH9GPeFrfjfD   \n",
       "2  spotify:track:1JFx9R87En9oJOi4DRH1e9  spotify:track:3UYhSPI2lVFfbnC6usruPj   \n",
       "3  spotify:track:2uxnPcTJa2UExlj1LwYZp6  spotify:track:57nNNkgk768QVXq3uHxu5e   \n",
       "4  spotify:track:3KdOm1GJJWYDTQmIbRIkcL  spotify:track:5GgC8oLIpJjQ5FlshQvtv3   \n",
       "\n",
       "                            track_7_uri                           track_8_uri  \\\n",
       "0  spotify:track:6nIE1oCE4udqMGv3bqVNVb  spotify:track:4dvNIeJawEWqMe1ZfYKcXt   \n",
       "1  spotify:track:4djIFfof5TpbSGRZUpsTXq  spotify:track:1snNAXmmPXCn0dkF9DaPWw   \n",
       "2  spotify:track:0jx8zY5JQsS4YEQcfkoc5C  spotify:track:6TaqooOXAEcijL6G1AWS2K   \n",
       "3  spotify:track:5CeWLQg987gjDTPF9jQptP  spotify:track:5IxS93bfuITJyNNkvkJ4q5   \n",
       "4  spotify:track:3ODSy5RSRPmo9WbuVYuWZx  spotify:track:0cMIrWqljfkcl99TIYTtqf   \n",
       "\n",
       "                            track_9_uri                          track_10_uri  \\\n",
       "0  spotify:track:4tLBp1HnrrCvbJbeD4g0f3  spotify:track:3VXY8vQ3NJZ76iLtAg51QR   \n",
       "1  spotify:track:5ho74ZlMvEbyhFutCd8SGg  spotify:track:2UAWCPSBKXi33Q0YMoDRRS   \n",
       "2  spotify:track:0z5ZPs57J2KERwM1tBM2GF  spotify:track:25khomWgBVamSdKw7hzm3l   \n",
       "3  spotify:track:0mQnLhHH5WwRc5gtnzLtK6  spotify:track:66fVx0KicQduW94cDNM59V   \n",
       "4  spotify:track:0zYYWBqEFWrQjg48Nmf71B  spotify:track:3CNdjIf1JnMwOrn2Gggbyf   \n",
       "\n",
       "                           track_11_uri                          track_12_uri  \\\n",
       "0  spotify:track:5uCax9HTNlzGybIStD3vDh  spotify:track:2iXBZ32Fz5VDCLeE0JIdX5   \n",
       "1  spotify:track:4dASQiO1Eoo3RJvt74FtXB  spotify:track:41on8RwRh22IHcChAN2gm8   \n",
       "2  spotify:track:5yJ0kIxrrYra3QexH58UVj  spotify:track:6Ius4TC0L3cN74HT7ENE6e   \n",
       "3  spotify:track:66hayvUbTotekKU3H4ta1f  spotify:track:4WjH9Bzt3kx7z8kl0awxh4   \n",
       "4  spotify:track:1bYd8H3uOQA1Er17QN1V6B  spotify:track:4x85BXuxs7vAPZqJ2pRDvc   \n",
       "\n",
       "                           track_13_uri                          track_14_uri  \\\n",
       "0  spotify:track:1aBO5KPwxqLESNTTJBR6VP  spotify:track:2iFvY1l5o2mmUAjBq1L9Mh   \n",
       "1  spotify:track:7BHPGtpuuWWsvE7cCaMuEU  spotify:track:3ZOEytgrvLwQaqXreDs2Jx   \n",
       "2  spotify:track:1yYzuNd0KRyHVJ3NH8apBt  spotify:track:6GnhWMhgJb7uyiiPEiEkDA   \n",
       "3  spotify:track:5Hag6lqkkjgbzoyMEZO95y  spotify:track:4SuwafV4Ell3N4unnIzJSI   \n",
       "4  spotify:track:23H9bXxwd5L4CdTrvU7SYl  spotify:track:3JxCHQHvao3OO5x7gGiral   \n",
       "\n",
       "                           track_15_uri  \n",
       "0  spotify:track:3yrVRdwCbEeKODZgG2mVZX  \n",
       "1  spotify:track:5E30LdtzQTGqRvNd7l6kG5  \n",
       "2  spotify:track:0htTZnlk6okQ1HIq4EvFQ6  \n",
       "3  spotify:track:4XvKjZWIqsHvvza89lMTAH  \n",
       "4  spotify:track:1yOLrH7nF0R7MWDuuva6va  "
      ]
     },
     "execution_count": 89,
     "metadata": {},
     "output_type": "execute_result"
    }
   ],
   "source": [
    "track_uri_df.reset_index().drop(['pid'], axis=1).head()"
   ]
  },
  {
   "cell_type": "code",
   "execution_count": 98,
   "id": "cea7680f-4dd6-46eb-972d-7ef6413e0bf4",
   "metadata": {},
   "outputs": [
    {
     "data": {
      "text/plain": [
       "TensorShape([570806, 15])"
      ]
     },
     "execution_count": 98,
     "metadata": {},
     "output_type": "execute_result"
    }
   ],
   "source": [
    "adapt_data = tf.constant(track_uri_df.reset_index().drop(['pid'], axis=1))\n",
    "adapt_data.shape"
   ]
  },
  {
   "cell_type": "code",
   "execution_count": 99,
   "id": "369cfad5-a60a-45a3-9c24-24a90b1214e4",
   "metadata": {},
   "outputs": [],
   "source": [
    "# call .adapt() on all of the data (with repeating tracks) to create vocabulary\n",
    "vectorize_layer.adapt(adapt_data)"
   ]
  },
  {
   "cell_type": "code",
   "execution_count": 101,
   "id": "e9d95caf-6217-4ac3-a79e-7438447f33b7",
   "metadata": {},
   "outputs": [
    {
     "data": {
      "text/plain": [
       "['',\n",
       " '[UNK]',\n",
       " '0',\n",
       " 'spotify:track:7KXjTSCq5nL1LoYtL7XAwS',\n",
       " 'spotify:track:3a1lNhkSLSkpJE4MSHpDu9',\n",
       " 'spotify:track:152lZdxL1OR0ZMW6KquMif',\n",
       " 'spotify:track:7yyRTcZmCiyzzJlNzGC9Ol',\n",
       " 'spotify:track:2EEeOnHehOozLq4aS0n6SL',\n",
       " 'spotify:track:7GX5flRQZVHRAGd6B4TmDO',\n",
       " 'spotify:track:4Km5HrUvYTaSUfiSGPJeQR',\n",
       " 'spotify:track:0SGkqnVQo9KPytSri1H6cF',\n",
       " 'spotify:track:7BKLCZ1jbUBVqRi2FVlTVw',\n",
       " 'spotify:track:5hTpBe8h35rJ67eAWHQsJx',\n",
       " 'spotify:track:7qiZfU4dY1lWllzX7mPBI3',\n",
       " 'spotify:track:0VgkVdmE4gld66l8iyGjgx',\n",
       " 'spotify:track:343YBumqHu19cGoGARUTsd',\n",
       " 'spotify:track:5CtI0qwDJkDQGwXD1H1cLb',\n",
       " 'spotify:track:6gBFPUFcJLzWGx4lenP6h2',\n",
       " 'spotify:track:3DXncPQOG4VBw3QHh3S817',\n",
       " 'spotify:track:1xznGGDReH1oQq0xzbwXa3']"
      ]
     },
     "metadata": {},
     "output_type": "display_data"
    },
    {
     "name": "stdout",
     "output_type": "stream",
     "text": [
      "645802\n",
      "(645802, 6)\n"
     ]
    }
   ],
   "source": [
    "inverse_vocab = vectorize_layer.get_vocabulary()\n",
    "display(inverse_vocab[:20])\n",
    "print(len(inverse_vocab))\n",
    "print(track_df.shape)"
   ]
  },
  {
   "cell_type": "code",
   "execution_count": null,
   "id": "8ec7a63d-49c6-49f3-8235-85c120a04db0",
   "metadata": {},
   "outputs": [],
   "source": [
    "# Vectorize the data in playlists.\n",
    "# trying to recreate this function:\n",
    "# track_vector = text_ds.batch(1024).prefetch(AUTOTUNE).map(vectorize_layer).unbatch()\n"
   ]
  },
  {
   "cell_type": "markdown",
   "id": "1353badd-1862-479f-baa5-c114dd9bec06",
   "metadata": {},
   "source": [
    "# stopping here bc we're going with Lawis' model"
   ]
  }
 ],
 "metadata": {
  "kernelspec": {
   "display_name": "Python [conda env:w207env]",
   "language": "python",
   "name": "conda-env-w207env-py"
  },
  "language_info": {
   "codemirror_mode": {
    "name": "ipython",
    "version": 3
   },
   "file_extension": ".py",
   "mimetype": "text/x-python",
   "name": "python",
   "nbconvert_exporter": "python",
   "pygments_lexer": "ipython3",
   "version": "3.9.12"
  }
 },
 "nbformat": 4,
 "nbformat_minor": 5
}
